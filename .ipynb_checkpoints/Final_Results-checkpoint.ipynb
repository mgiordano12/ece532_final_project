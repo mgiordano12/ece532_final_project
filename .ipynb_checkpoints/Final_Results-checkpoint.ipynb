{
 "cells": [
  {
   "cell_type": "markdown",
   "metadata": {},
   "source": [
    "# Final Project Notebook: ECE 532"
   ]
  },
  {
   "cell_type": "markdown",
   "metadata": {},
   "source": [
    "# 1. Preprocessing"
   ]
  },
  {
   "cell_type": "code",
   "execution_count": 70,
   "metadata": {},
   "outputs": [],
   "source": [
    "import numpy as np\n",
    "import tensorflow as tf\n",
    "import matplotlib.pyplot as plt \n",
    "import random\n",
    "import copy\n",
    "from matplotlib import pyplot as plt\n",
    "\n",
    "# Original split of data in mnist\n",
    "(x_train, y_train), (x_test, y_test) = tf.keras.datasets.mnist.load_data()"
   ]
  },
  {
   "cell_type": "code",
   "execution_count": 71,
   "metadata": {},
   "outputs": [],
   "source": [
    "## function to plot images in grid\n",
    "#  Used in ECE: 601 HW as well \n",
    "def show_images(images, rows, cols):\n",
    "    for i in range(rows * cols):\n",
    "        plt.subplot(rows, cols, i + 1)\n",
    "        plt.imshow(images[i], cmap=plt.cm.gray_r)\n",
    "        plt.xticks(())\n",
    "        plt.yticks(())\n",
    "    plt.show()"
   ]
  },
  {
   "cell_type": "markdown",
   "metadata": {},
   "source": [
    "# 1a. Cross-Validation Set Creation"
   ]
  },
  {
   "cell_type": "code",
   "execution_count": 72,
   "metadata": {},
   "outputs": [],
   "source": [
    "# Shuffled will be our x-validation data\n",
    "x_train_vectorized = x_train.reshape(60000,784).T\n",
    "x_test_vectorized = x_test.reshape(10000,784).T\n",
    "\n",
    "x = np.hstack((x_train_vectorized, x_test_vectorized))\n",
    "y = np.hstack((y_train, y_test))\n",
    "\n",
    "comb = np.array([np.array([x[:,i], y[i]]) for i in range(x.shape[1])])\n",
    "\n",
    "# Put into list and shuffle\n",
    "shuffled = [0,0,0,0,0,0,0]\n",
    "for i in range(7):\n",
    "    shuffled[i] = np.copy(comb)\n",
    "    random.shuffle(shuffled[i])\n",
    "shuffled = np.array(shuffled)\n",
    "\n",
    "# Split back out into training, testing, x, y\n",
    "x_train_x = np.empty((7,60000,784),dtype='uint8')\n",
    "x_test_x = np.empty((7,10000,784),'uint8')\n",
    "y_train_x = np.empty((7,60000),'uint8')\n",
    "y_test_x = np.empty((7,10000),'uint8')\n",
    "\n",
    "for i in range(7):\n",
    "    for j in range(60000):\n",
    "        x_train_x[i,j,:] = shuffled[i,j][0]\n",
    "        y_train_x[i,j] = shuffled[i,j][1]\n",
    "        \n",
    "for i in range(7):\n",
    "    for j in range(60000,70000):\n",
    "        x_test_x[i,j-60000,:] = shuffled[i,j][0]\n",
    "        y_test_x[i,j-60000] = shuffled[i,j][1]"
   ]
  },
  {
   "cell_type": "markdown",
   "metadata": {},
   "source": [
    "# 1b. PCA"
   ]
  },
  {
   "cell_type": "code",
   "execution_count": 73,
   "metadata": {},
   "outputs": [],
   "source": [
    "# Vectorize and put data columnwise\n",
    "x_train_vectorized = x_train.reshape(60000,784).T\n",
    "\n",
    "# Remove means\n",
    "means = np.mean(x_train_vectorized, 1).reshape(784,1)\n",
    "x_train_mr = x_train_vectorized - means\n",
    "\n",
    "# Do the same for x-validation data\n",
    "means_x = []\n",
    "x_train_mr_x = []\n",
    "for i in range(7):\n",
    "    means_x.append(np.mean(x_train_x[i].T,1).reshape(784,1))\n",
    "    x_train_mr_x.append(x_train_x[i].T - means_x[i])"
   ]
  },
  {
   "cell_type": "code",
   "execution_count": 74,
   "metadata": {},
   "outputs": [],
   "source": [
    "U,s,VT = np.linalg.svd(x_train_mr,full_matrices=False)\n",
    "\n",
    "# x-validation version\n",
    "U_x = [0,0,0,0,0,0,0]\n",
    "s_x = [0,0,0,0,0,0,0]\n",
    "VT_x = [0,0,0,0,0,0,0]\n",
    "for i in range(7):\n",
    "    U_x[i],s_x[i],VT_x[i] = np.linalg.svd(x_train_mr_x[i],full_matrices=False)"
   ]
  },
  {
   "cell_type": "code",
   "execution_count": 75,
   "metadata": {},
   "outputs": [
    {
     "data": {
      "text/plain": [
       "Text(0, 0.5, 'Singular Value')"
      ]
     },
     "execution_count": 75,
     "metadata": {},
     "output_type": "execute_result"
    },
    {
     "data": {
      "image/png": "[encoded data removed]",
      "text/plain": [
       "<Figure size 432x288 with 1 Axes>"
      ]
     },
     "metadata": {
      "needs_background": "light"
     },
     "output_type": "display_data"
    }
   ],
   "source": [
    "# If we take a quick look at s, there's a clear cut off where the singular values drop under 1\n",
    "plt.plot(range(784), np.log(s))\n",
    "plt.xlabel(\"Singular Value Index\")\n",
    "plt.ylabel(\"Singular Value\")"
   ]
  },
  {
   "cell_type": "code",
   "execution_count": 76,
   "metadata": {},
   "outputs": [],
   "source": [
    "# Let's grab those first ones\n",
    "s_red = [ i for i in s if i > 1]\n",
    "\n",
    "# x-val\n",
    "s_red_x = [0,0,0,0,0,0,0]\n",
    "for j in range(7):\n",
    "    s_red_x[j] = [ i for i in s_x[j] if i > 1]\n",
    "\n",
    "# And get our new matrix\n",
    "A  = U[:,:len(s_red)]@np.diag(s_red)@VT[:len(s_red),:]\n",
    "\n",
    "#x-val\n",
    "A_x = [0,0,0,0,0,0,0]\n",
    "for i in range(7):\n",
    "    A_x[i] = U_x[i][:,:len(s_red_x[i])]@np.diag(s_red_x[i])@VT_x[i][:len(s_red_x[i]),:]\n",
    "\n",
    "# Add back means and make data rowwise again\n",
    "A_lr = (A+means).T\n",
    "\n",
    "A_lr_x = [0,0,0,0,0,0,0]\n",
    "for i in range(7):\n",
    "    A_lr_x[i] = (A_x[i]+means_x[i]).T"
   ]
  },
  {
   "cell_type": "markdown",
   "metadata": {},
   "source": [
    "# 2. Least Squares Algorithm"
   ]
  },
  {
   "cell_type": "markdown",
   "metadata": {},
   "source": [
    "Need 1/0 label for each of ten classes"
   ]
  },
  {
   "cell_type": "code",
   "execution_count": 77,
   "metadata": {},
   "outputs": [],
   "source": [
    "y_truths = [[1 if i == j else -1 for i in y_train] for j in range(10)]\n",
    "y_truths_x = [ [[1 if i == j else -1 for i in y_train_x[k]] for j in range(10)] for k in range(7)]\n",
    "\n",
    "y_test_truths = [[1 if i == j else -1 for i in y_test] for j in range(10)]\n",
    "y_test_truths_x = [ [[1 if i == j else -1 for i in y_test_x[k]] for j in range(10)] for k in range(7)]"
   ]
  },
  {
   "cell_type": "markdown",
   "metadata": {},
   "source": [
    "Find w's"
   ]
  },
  {
   "cell_type": "code",
   "execution_count": 78,
   "metadata": {},
   "outputs": [],
   "source": [
    "# can play around with lambda later, should be really small since we already controlled for a lot of noise\n",
    "lam = .00001\n",
    "\n",
    "# gets w's for numbers 0-9\n",
    "dubs = [np.linalg.inv(A_lr.T@A_lr + lam*np.identity(784))@A_lr.T@y_truths[i] for i in range(10)]\n",
    "\n",
    "dubs_x = [ [np.linalg.inv(A_lr_x[k].T@A_lr_x[k] + lam*np.identity(784))@A_lr_x[k].T@y_truths_x[k][i] for i in range(10)] for k in range(7)]"
   ]
  },
  {
   "cell_type": "markdown",
   "metadata": {},
   "source": [
    "Find Predictions"
   ]
  },
  {
   "cell_type": "code",
   "execution_count": 79,
   "metadata": {},
   "outputs": [],
   "source": [
    "# Get y_hats of individual error rates for each classification #\n",
    "y_hats = [x_test_vectorized.T@dubs[i] for i in range(10)]\n",
    "\n",
    "y_hats_x = [ [x_test_x[k]@dubs_x[k][i] for i in range(10)] for k in range(7) ]"
   ]
  },
  {
   "cell_type": "markdown",
   "metadata": {},
   "source": [
    "Get error_rates of individual error rates for each classification #"
   ]
  },
  {
   "cell_type": "code",
   "execution_count": 80,
   "metadata": {},
   "outputs": [],
   "source": [
    "error_rates = [np.sum(np.sign(y_hats[i][:]) != y_test_truths[i][:])/10000 for i in range(10)]\n",
    "\n",
    "error_rates_x = [ [np.sum(np.sign(y_hats_x[k][i][:]) != y_test_truths_x[k][i][:])/10000 for i in range(10)] for k in range(7)]"
   ]
  },
  {
   "cell_type": "markdown",
   "metadata": {},
   "source": [
    "Error rates among each classification number don't change significantly between original split and validation splits.  Eg. The classification line for number 7 reports \"not a seven\" in ~3% of cases"
   ]
  },
  {
   "cell_type": "code",
   "execution_count": 81,
   "metadata": {},
   "outputs": [
    {
     "data": {
      "image/png": "[encoded data removed]",
      "text/plain": [
       "<Figure size 432x288 with 1 Axes>"
      ]
     },
     "metadata": {
      "needs_background": "light"
     },
     "output_type": "display_data"
    }
   ],
   "source": [
    "x_vals = range(10)\n",
    "\n",
    "error_rates_x[0]\n",
    "for i in range(7):\n",
    "    plt.plot(x_vals, error_rates_x[i], label='Validation set ' + str(i+1))\n",
    "    \n",
    "plt.plot(x_vals,error_rates, 'k', label='Original Train/Test Split', lw=8, ls='--')\n",
    "    \n",
    "plt.xlabel('Number Being Classified')\n",
    "plt.ylabel('Error Rate')\n",
    "plt.legend(loc='upper left', bbox_to_anchor=(1, 1))\n",
    "plt.show()"
   ]
  },
  {
   "cell_type": "code",
   "execution_count": 82,
   "metadata": {},
   "outputs": [],
   "source": [
    "y_hats_arr = np.array(y_hats)\n",
    "y_hats_arr_x = [ np.array(y_hats_x[k]) for k in range(7) ]\n",
    "\n",
    "# Max value of each test instance\n",
    "maxes = np.argmax(y_hats_arr, axis=0)\n",
    "maxes_x = [ np.argmax(y_hats_arr_x[k], axis=0) for k in range(7) ]\n",
    "\n",
    "error_rate = np.sum(maxes[:] != y_test[:])/10000\n",
    "error_rate_x = [ np.sum(maxes_x[k][:] != y_test_x[k][:])/10000 for k in range(7) ]"
   ]
  },
  {
   "cell_type": "markdown",
   "metadata": {},
   "source": [
    "We notice the error rates on the random split test data are slightly than the error rate of the original split"
   ]
  },
  {
   "cell_type": "code",
   "execution_count": 83,
   "metadata": {},
   "outputs": [
    {
     "name": "stdout",
     "output_type": "stream",
     "text": [
      "Error rate of original split: 0.1466\n",
      "Average error rate of random split: 0.15467142857142857\n"
     ]
    }
   ],
   "source": [
    "print(\"Error rate of original split: \" + str(error_rate))\n",
    "print(\"Average error rate of random split: \" + str(np.mean(error_rate_x)))"
   ]
  },
  {
   "cell_type": "markdown",
   "metadata": {},
   "source": [
    "Let's test what a good lambda value would be for the original train/test split."
   ]
  },
  {
   "cell_type": "code",
   "execution_count": 84,
   "metadata": {},
   "outputs": [
    {
     "name": "stdout",
     "output_type": "stream",
     "text": [
      "1e-07\n",
      "1e-06\n",
      "1e-05\n",
      "0.0001\n",
      "0.001\n",
      "0.01\n",
      "0.1\n",
      "1\n",
      "10\n",
      "1000.0\n",
      "10000.0\n",
      "100000.0\n",
      "1000000.0\n",
      "10000000.0\n",
      "100000000.0\n",
      "1000000000.0\n",
      "10000000000.0\n"
     ]
    }
   ],
   "source": [
    "lams = [.0000001, .000001, .00001, .0001, .001, .01, .1, 1, 10, 10e2, 10e3, 10e4, 10e5, 10e6, 10e7, 10e8, 10e9]\n",
    "\n",
    "err_rates = []\n",
    "\n",
    "# Get error_rates for various values of lambda\n",
    "for lam in lams:\n",
    "    print(lam)\n",
    "    # gets w's for numbers 0-9\n",
    "    dubs = [np.linalg.inv(A_lr.T@A_lr + lam*np.identity(784))@A_lr.T@y_truths[i] for i in range(10)]\n",
    "    \n",
    "    # Get y_hats of individual error rates for each classification #\n",
    "    y_hats = [x_test_vectorized.T@dubs[i] for i in range(10)]\n",
    "    \n",
    "    y_hats_arr = np.array(y_hats)\n",
    "\n",
    "    # Max value of each test instance\n",
    "    maxes = np.argmax(y_hats_arr, axis=0)\n",
    "    \n",
    "    err_rates.append(np.sum(maxes[:] != y_test[:])/10000)"
   ]
  },
  {
   "cell_type": "markdown",
   "metadata": {},
   "source": [
    "Since we already did PCA, lambda doesn't seem to make too much of a difference unless you make it really rally big and then it starts to pull error up."
   ]
  },
  {
   "cell_type": "code",
   "execution_count": 85,
   "metadata": {},
   "outputs": [
    {
     "data": {
      "image/png": "[encoded data removed]",
      "text/plain": [
       "<Figure size 432x288 with 1 Axes>"
      ]
     },
     "metadata": {
      "needs_background": "light"
     },
     "output_type": "display_data"
    },
    {
     "name": "stdout",
     "output_type": "stream",
     "text": [
      "[0.1466, 0.1466, 0.1466, 0.1466, 0.1466, 0.1466, 0.1466, 0.1466, 0.1466, 0.1467, 0.1466, 0.1466, 0.1452, 0.1435, 0.1424, 0.1547, 0.1959]\n"
     ]
    }
   ],
   "source": [
    "plt.bar(range(-7,10),err_rates)\n",
    "plt.xlabel('Log(Lambda Value Chosen)')\n",
    "plt.ylabel('Error on Original Data Split')\n",
    "plt.show()\n",
    "print(err_rates)"
   ]
  },
  {
   "cell_type": "markdown",
   "metadata": {},
   "source": [
    "# 3. KNN Algorithm"
   ]
  },
  {
   "cell_type": "code",
   "execution_count": 14,
   "metadata": {},
   "outputs": [],
   "source": [
    "import time\n",
    "from collections import Counter\n",
    "\n",
    "def classifyKNN(x_train, x_test, k=1):\n",
    "    neighbors = []\n",
    "\n",
    "    start_time = time.time()\n",
    "    for i_test in range(x_test.shape[0]):#range(100):\n",
    "        min_vals = [10000000000000000]\n",
    "        min_indexes = {10000000000000000 : -1}\n",
    "        \n",
    "        for j_train in range(x_train.shape[0]):\n",
    "\n",
    "            \n",
    "            if np.sum(np.square(x_test[i_test] - x_train[j_train])) < min_vals[-1]:\n",
    "                \n",
    "                val = np.sum(np.square(x_test[i_test] - x_train[j_train]))\n",
    "                \n",
    "                if val in min_indexes.keys():\n",
    "                    continue\n",
    "                \n",
    "                if len(min_vals) < k:\n",
    "                    min_vals.append(val)\n",
    "                    min_indexes[val] = j_train\n",
    "                else:\n",
    "                    min_indexes.pop(min_vals[-1])\n",
    "                    min_vals[-1] = val\n",
    "                    min_indexes[val] = j_train\n",
    "\n",
    "                min_vals = sorted(min_vals)\n",
    "\n",
    "        classes = [y_train[i] for i in min_indexes.values()]\n",
    "        # https://stackoverflow.com/questions/10797819/finding-the-mode-of-a-list\n",
    "        # Break ties more intelligently?\n",
    "        neighbors.append(Counter(classes).most_common(1)[0][0])\n",
    "        if i_test % 100 == 0:\n",
    "            print(time.time()-start_time)\n",
    "            start_time = time.time()\n",
    "            \n",
    "    return neighbors"
   ]
  },
  {
   "cell_type": "code",
   "execution_count": 154,
   "metadata": {},
   "outputs": [
    {
     "name": "stdout",
     "output_type": "stream",
     "text": [
      "1.047199010848999\n",
      "78.26372575759888\n",
      "75.4870855808258\n",
      "79.68086814880371\n",
      "76.55551409721375\n",
      "75.4830961227417\n",
      "74.96348667144775\n",
      "75.56587624549866\n",
      "76.10543036460876\n",
      "77.02597093582153\n",
      "78.42572045326233\n",
      "88.24585700035095\n",
      "89.28986740112305\n",
      "93.742271900177\n",
      "76.64299535751343\n",
      "76.13634753227234\n",
      "75.55693984031677\n",
      "75.69848537445068\n",
      "77.56654810905457\n",
      "76.14929032325745\n",
      "75.60676717758179\n",
      "75.30286574363708\n",
      "106.98456811904907\n",
      "76.61854195594788\n",
      "77.1207594871521\n",
      "75.06521415710449\n",
      "76.51531147956848\n",
      "76.3228497505188\n",
      "76.93321752548218\n",
      "74.7011890411377\n",
      "75.0802104473114\n",
      "75.65859055519104\n",
      "74.60132503509521\n",
      "76.48773670196533\n",
      "76.00793957710266\n",
      "74.96747398376465\n",
      "75.46700406074524\n",
      "74.1400077342987\n",
      "75.6945321559906\n",
      "75.05057382583618\n",
      "75.2098274230957\n",
      "75.34094095230103\n",
      "79.96673846244812\n",
      "75.18694472312927\n",
      "74.72515344619751\n",
      "75.04744982719421\n",
      "75.90995383262634\n",
      "74.91564202308655\n",
      "74.97443008422852\n",
      "75.27884006500244\n",
      "79.13831901550293\n",
      "74.81987142562866\n",
      "96.0046739578247\n",
      "95.76508474349976\n",
      "100.29990983009338\n",
      "93.6715292930603\n",
      "92.13420963287354\n",
      "96.5462441444397\n",
      "95.38685822486877\n",
      "93.65449237823486\n",
      "96.07465672492981\n",
      "95.93935918807983\n",
      "94.07278180122375\n",
      "106.6350085735321\n",
      "111.0040831565857\n",
      "101.75183320045471\n",
      "112.22083020210266\n",
      "111.24406003952026\n",
      "107.6371693611145\n",
      "96.61457395553589\n",
      "112.75651478767395\n",
      "127.8643548488617\n",
      "141.31447958946228\n",
      "106.86267304420471\n",
      "106.75330424308777\n",
      "117.49001717567444\n",
      "109.23564195632935\n",
      "103.92501974105835\n",
      "119.65797662734985\n",
      "113.5193567276001\n",
      "109.65170526504517\n",
      "117.08282971382141\n",
      "119.51831007003784\n",
      "115.93858122825623\n",
      "119.72145676612854\n",
      "115.49507808685303\n",
      "117.5070264339447\n",
      "117.84279370307922\n",
      "139.1780858039856\n",
      "106.8831934928894\n",
      "116.56728172302246\n",
      "99.74619770050049\n",
      "105.15373420715332\n",
      "113.53531241416931\n",
      "113.35679125785828\n",
      "111.90068578720093\n",
      "5548.874153614044\n",
      "203.1125328540802\n",
      "180.76257491111755\n",
      "196.74509572982788\n"
     ]
    }
   ],
   "source": [
    "test_lr = classifyKNN(A_lr, x_test.reshape(10000,784), 9)"
   ]
  },
  {
   "cell_type": "code",
   "execution_count": 155,
   "metadata": {},
   "outputs": [
    {
     "name": "stdout",
     "output_type": "stream",
     "text": [
      "0.0338\n"
     ]
    }
   ],
   "source": [
    "errors = 0\n",
    "for i in range(10000):\n",
    "    if y_test[i] != test_lr[i]:\n",
    "        errors += 1\n",
    "\n",
    "print(errors/10000)"
   ]
  },
  {
   "cell_type": "code",
   "execution_count": 16,
   "metadata": {},
   "outputs": [
    {
     "name": "stdout",
     "output_type": "stream",
     "text": [
      "-----------------------------------------------------\n",
      "K\n",
      "1\n",
      "----------------------------------------------------\n",
      "0.8387939929962158\n",
      "85.74226713180542\n",
      "87.47162628173828\n",
      "80.86468076705933\n",
      "81.54292893409729\n",
      "84.53880143165588\n",
      "78.4593939781189\n",
      "82.45039820671082\n",
      "87.16243243217468\n",
      "78.98439621925354\n",
      "80.30018448829651\n",
      "78.93489933013916\n",
      "79.66723775863647\n",
      "76.60471749305725\n",
      "76.96612572669983\n",
      "77.84376001358032\n",
      "82.98471665382385\n",
      "85.98672747612\n",
      "83.07408666610718\n",
      "77.09446835517883\n",
      "78.4713282585144\n",
      "90.14207172393799\n",
      "79.71199131011963\n",
      "77.80095911026001\n",
      "81.12457990646362\n",
      "86.58564949035645\n",
      "94.12123918533325\n",
      "79.22140979766846\n",
      "86.14365601539612\n",
      "77.79839205741882\n",
      "78.22474265098572\n",
      "87.37238812446594\n",
      "77.33791303634644\n",
      "92.31278347969055\n",
      "80.10667085647583\n",
      "79.8223066329956\n",
      "81.32427072525024\n",
      "83.2483742237091\n",
      "83.56556487083435\n",
      "81.54603266716003\n",
      "83.04789161682129\n",
      "83.65834331512451\n",
      "81.35140323638916\n",
      "82.80506443977356\n",
      "82.4474446773529\n",
      "82.12405610084534\n",
      "80.90554785728455\n",
      "82.16619801521301\n",
      "101.76738715171814\n",
      "82.61750960350037\n",
      "81.6020576953888\n",
      "83.371999502182\n",
      "83.05195808410645\n",
      "80.54815101623535\n",
      "79.33876180648804\n",
      "78.15444421768188\n",
      "78.04422497749329\n",
      "79.25664639472961\n",
      "78.23452258110046\n",
      "79.10118389129639\n",
      "77.80586123466492\n",
      "78.11767029762268\n",
      "78.1968162059784\n",
      "77.74378204345703\n",
      "77.8786678314209\n",
      "82.97780013084412\n",
      "77.61214709281921\n",
      "80.18903422355652\n",
      "77.96614027023315\n",
      "84.27872014045715\n",
      "78.3814868927002\n",
      "77.86670064926147\n",
      "77.60136795043945\n",
      "78.13881421089172\n",
      "77.79189896583557\n",
      "80.52856993675232\n",
      "77.56145572662354\n",
      "77.87764573097229\n",
      "77.73604941368103\n",
      "81.69098138809204\n",
      "78.49884128570557\n",
      "77.74957585334778\n",
      "78.56479668617249\n",
      "77.85375761985779\n",
      "77.68976879119873\n",
      "77.47973489761353\n",
      "80.85271263122559\n",
      "81.45313930511475\n",
      "96.02771139144897\n",
      "84.62777924537659\n",
      "159.27474331855774\n",
      "176.58276891708374\n",
      "117.73148560523987\n",
      "79.91832447052002\n",
      "175.63753151893616\n",
      "93.33843922615051\n",
      "87.37469792366028\n",
      "87.53958797454834\n",
      "87.96418642997742\n",
      "85.13333463668823\n",
      "-----------------------------------------------------\n",
      "K\n",
      "5\n",
      "----------------------------------------------------\n",
      "0.805844783782959\n",
      "87.68741774559021\n",
      "87.71042490005493\n",
      "89.36930727958679\n",
      "85.07696509361267\n",
      "89.61410093307495\n",
      "83.69716691970825\n",
      "87.0313081741333\n",
      "85.3720817565918\n",
      "95.56629228591919\n",
      "77.30770301818848\n",
      "77.59637570381165\n",
      "85.46591782569885\n",
      "79.14734148979187\n",
      "76.7340350151062\n",
      "79.24633026123047\n",
      "78.43425512313843\n",
      "79.73669719696045\n",
      "77.16043519973755\n",
      "80.82748579978943\n",
      "77.60763907432556\n",
      "77.16457772254944\n",
      "76.95114874839783\n",
      "77.57070446014404\n",
      "76.84513854980469\n",
      "77.22242498397827\n",
      "77.06883883476257\n",
      "77.16690158843994\n",
      "77.48687767982483\n",
      "76.4714081287384\n",
      "77.06883883476257\n",
      "77.51398587226868\n",
      "77.20001721382141\n",
      "76.87038660049438\n",
      "77.14713644981384\n",
      "77.10003304481506\n",
      "77.49343538284302\n",
      "77.65925478935242\n",
      "78.28358721733093\n",
      "79.55894804000854\n",
      "81.75388813018799\n",
      "76.72874188423157\n",
      "76.67491340637207\n",
      "76.86126828193665\n",
      "77.95546269416809\n",
      "76.69765877723694\n",
      "76.97511076927185\n",
      "77.21045398712158\n",
      "76.60305452346802\n",
      "76.91325044631958\n",
      "76.22810792922974\n",
      "79.32956504821777\n",
      "77.08097290992737\n",
      "76.52033734321594\n",
      "121.48596000671387\n",
      "79.28104710578918\n",
      "77.64727902412415\n",
      "77.91848850250244\n",
      "77.2703607082367\n",
      "77.62534666061401\n",
      "77.1765444278717\n",
      "78.25250625610352\n",
      "77.86353421211243\n",
      "77.42388439178467\n",
      "78.80319452285767\n",
      "79.03851318359375\n",
      "77.5330798625946\n",
      "77.51163673400879\n",
      "81.33342552185059\n",
      "77.85065937042236\n",
      "77.15551829338074\n",
      "77.27730798721313\n",
      "77.21341705322266\n",
      "77.1211531162262\n",
      "77.55504250526428\n",
      "76.62801194190979\n",
      "77.22242474555969\n",
      "77.95222401618958\n",
      "77.90185308456421\n",
      "76.98708605766296\n",
      "77.67986583709717\n",
      "78.73220753669739\n",
      "76.9790735244751\n",
      "77.24622368812561\n",
      "77.04658555984497\n",
      "77.26628851890564\n",
      "77.37798500061035\n",
      "77.08479166030884\n",
      "77.12867140769958\n",
      "78.51055359840393\n",
      "77.32813310623169\n",
      "77.23336458206177\n",
      "77.03392672538757\n",
      "77.48648309707642\n",
      "76.92524719238281\n",
      "76.71560001373291\n",
      "77.00597381591797\n",
      "78.82628464698792\n",
      "77.89362621307373\n",
      "77.00600242614746\n",
      "-----------------------------------------------------\n",
      "K\n",
      "9\n",
      "----------------------------------------------------\n",
      "0.9105656147003174\n",
      "82.68347144126892\n",
      "77.11773324012756\n",
      "77.1927900314331\n",
      "76.9082932472229\n",
      "77.2441554069519\n",
      "77.32315421104431\n",
      "85.42310333251953\n",
      "77.93551707267761\n",
      "79.0585424900055\n",
      "78.25163745880127\n",
      "78.04899501800537\n",
      "77.39529347419739\n",
      "77.6333556175232\n",
      "77.41890692710876\n",
      "81.18482422828674\n",
      "78.15293431282043\n",
      "77.33676719665527\n",
      "77.66619443893433\n",
      "77.16982793807983\n",
      "77.49856996536255\n",
      "77.316171169281\n",
      "76.78958106040955\n",
      "77.01503610610962\n",
      "78.3304591178894\n",
      "77.23339414596558\n",
      "76.89529776573181\n",
      "77.36903119087219\n",
      "77.04933071136475\n",
      "76.97508502006531\n",
      "76.99910187721252\n",
      "77.38870072364807\n",
      "78.4581458568573\n",
      "77.08675575256348\n",
      "76.733731508255\n",
      "77.38839817047119\n",
      "77.12058472633362\n",
      "77.30221199989319\n",
      "77.0329282283783\n",
      "76.88033938407898\n",
      "77.94648551940918\n",
      "77.01302409172058\n",
      "76.937082529068\n",
      "79.33735585212708\n",
      "77.28125238418579\n",
      "77.03395795822144\n",
      "77.40091514587402\n",
      "81.54077172279358\n",
      "77.95349645614624\n",
      "77.21940231323242\n",
      "77.2274100780487\n",
      "77.14609670639038\n",
      "77.09576106071472\n",
      "77.42887306213379\n",
      "77.46875596046448\n",
      "78.37536907196045\n",
      "77.41288232803345\n",
      "77.67122268676758\n",
      "77.03292989730835\n",
      "77.5282187461853\n",
      "77.14301657676697\n",
      "77.64525055885315\n",
      "76.95745325088501\n",
      "77.7091224193573\n",
      "77.23044395446777\n",
      "81.85829830169678\n",
      "77.27458310127258\n",
      "77.56450939178467\n",
      "77.28955340385437\n",
      "77.14762306213379\n",
      "77.29667973518372\n",
      "78.03525042533875\n",
      "77.09177088737488\n",
      "76.95414090156555\n",
      "78.31969833374023\n",
      "77.1336600780487\n",
      "76.96311688423157\n",
      "77.11770367622375\n",
      "77.87892127037048\n",
      "77.69020080566406\n",
      "77.47671270370483\n",
      "77.49694728851318\n",
      "77.99375891685486\n",
      "77.0149781703949\n",
      "76.87236022949219\n",
      "76.896324634552\n",
      "77.33209991455078\n",
      "77.32014632225037\n",
      "77.4987280368805\n",
      "78.34199404716492\n",
      "77.43438267707825\n",
      "77.06139469146729\n",
      "77.0359218120575\n",
      "80.83527255058289\n",
      "86.6728994846344\n",
      "77.35506939888\n",
      "77.15759563446045\n",
      "77.09708309173584\n",
      "77.7111554145813\n",
      "77.2363874912262\n",
      "-----------------------------------------------------\n",
      "K\n",
      "13\n",
      "----------------------------------------------------\n",
      "0.7629446983337402\n",
      "77.70043587684631\n",
      "81.1028881072998\n",
      "77.04290270805359\n",
      "77.20037579536438\n",
      "77.9011299610138\n",
      "77.06746578216553\n",
      "77.83677816390991\n",
      "77.2871208190918\n",
      "77.19350051879883\n",
      "77.2683002948761\n",
      "80.94150447845459\n",
      "77.57864475250244\n",
      "77.87687826156616\n",
      "77.33412337303162\n",
      "77.3071973323822\n",
      "76.94319081306458\n",
      "77.87669348716736\n",
      "77.4398148059845\n",
      "77.1346583366394\n",
      "77.125253200531\n",
      "76.9531421661377\n",
      "77.05786442756653\n",
      "78.28557848930359\n",
      "77.06610298156738\n",
      "77.86271023750305\n",
      "76.92023181915283\n",
      "76.73716402053833\n",
      "77.17817854881287\n",
      "77.38698291778564\n",
      "77.12371611595154\n",
      "76.84526205062866\n",
      "77.3533923625946\n",
      "77.85273575782776\n",
      "76.51629662513733\n",
      "77.47018575668335\n",
      "79.10674810409546\n",
      "77.50098991394043\n",
      "77.08778285980225\n",
      "78.66221070289612\n",
      "80.33163404464722\n",
      "77.4438169002533\n",
      "77.33911108970642\n",
      "77.31617021560669\n",
      "77.16290259361267\n",
      "77.03894305229187\n",
      "76.61625838279724\n",
      "77.4050567150116\n",
      "77.12771105766296\n",
      "77.55250382423401\n",
      "77.33911061286926\n",
      "77.37618398666382\n",
      "77.49765682220459\n",
      "76.6260187625885\n",
      "77.90559577941895\n",
      "77.18352723121643\n",
      "77.5545346736908\n",
      "77.32875657081604\n",
      "76.90527129173279\n",
      "77.16235613822937\n",
      "77.4767439365387\n",
      "78.7326545715332\n",
      "94.86553430557251\n",
      "85.80384826660156\n",
      "77.45181012153625\n",
      "77.37501549720764\n",
      "78.60640573501587\n",
      "77.05586886405945\n",
      "77.1077311038971\n",
      "77.0798032283783\n",
      "77.23043155670166\n",
      "77.75895857810974\n",
      "77.75499844551086\n",
      "77.20447254180908\n",
      "77.2188069820404\n",
      "77.20751094818115\n",
      "76.75763702392578\n",
      "77.89362716674805\n",
      "76.77165794372559\n",
      "77.2872200012207\n",
      "77.659255027771\n",
      "77.13053941726685\n",
      "78.51503896713257\n",
      "77.17758345603943\n",
      "77.40489459037781\n",
      "77.45591044425964\n",
      "81.27657699584961\n",
      "77.99269342422485\n",
      "76.84443402290344\n",
      "77.16079378128052\n",
      "77.12259340286255\n",
      "77.30520153045654\n",
      "77.2004828453064\n",
      "77.24713230133057\n",
      "77.49070644378662\n",
      "80.22444105148315\n",
      "77.00100255012512\n",
      "77.40425372123718\n",
      "77.49868512153625\n",
      "77.17953824996948\n",
      "-----------------------------------------------------\n",
      "K\n",
      "27\n",
      "----------------------------------------------------\n",
      "0.7968683242797852\n",
      "77.58667492866516\n",
      "77.58713960647583\n",
      "77.96244430541992\n",
      "78.194993019104\n",
      "77.99536800384521\n",
      "77.77893447875977\n",
      "77.75300216674805\n",
      "77.62625312805176\n",
      "77.82888150215149\n",
      "77.8108491897583\n",
      "80.37199831008911\n",
      "78.50064516067505\n",
      "77.39594197273254\n",
      "77.47477746009827\n",
      "77.22781682014465\n",
      "77.77248072624207\n",
      "77.45679473876953\n",
      "78.29159355163574\n",
      "77.63033103942871\n",
      "77.45184063911438\n",
      "77.45714569091797\n",
      "77.839772939682\n",
      "77.59043765068054\n",
      "77.75374150276184\n",
      "77.47997045516968\n",
      "78.32538342475891\n",
      "77.47574496269226\n",
      "80.3921377658844\n"
     ]
    },
    {
     "name": "stdout",
     "output_type": "stream",
     "text": [
      "78.25665831565857\n",
      "77.36703491210938\n",
      "77.48771333694458\n",
      "80.88130593299866\n",
      "77.39795351028442\n",
      "77.89010739326477\n",
      "77.0488862991333\n",
      "77.85950803756714\n",
      "77.28026914596558\n",
      "77.36504101753235\n",
      "77.65024900436401\n",
      "77.66423988342285\n",
      "77.68618488311768\n",
      "77.6173677444458\n",
      "77.65726733207703\n",
      "77.7134153842926\n",
      "77.4049346446991\n",
      "77.32614636421204\n",
      "78.0447084903717\n",
      "77.59442973136902\n",
      "77.97540879249573\n",
      "78.17686820030212\n",
      "78.56658673286438\n",
      "77.68614220619202\n",
      "77.85102725028992\n",
      "77.07657194137573\n",
      "77.33013653755188\n",
      "77.79588794708252\n",
      "78.06820869445801\n",
      "77.89661908149719\n",
      "77.25897717475891\n",
      "77.27487969398499\n",
      "78.1389708518982\n",
      "79.61901378631592\n",
      "77.46445560455322\n",
      "77.93776607513428\n",
      "78.21873545646667\n",
      "77.69273257255554\n",
      "78.11992931365967\n",
      "77.40175080299377\n",
      "77.2792706489563\n",
      "77.68283319473267\n",
      "77.68418669700623\n",
      "77.22042727470398\n",
      "77.98438501358032\n",
      "78.46514987945557\n",
      "78.06826400756836\n",
      "77.70912218093872\n",
      "77.61038565635681\n",
      "81.16414737701416\n",
      "78.09110069274902\n",
      "78.12301254272461\n",
      "77.37701153755188\n",
      "77.79838752746582\n",
      "77.57848930358887\n",
      "77.72612118721008\n",
      "77.23334908485413\n",
      "77.23788213729858\n",
      "80.75098466873169\n",
      "77.74103713035583\n",
      "77.27195525169373\n",
      "77.85936307907104\n",
      "77.72611665725708\n",
      "77.46677136421204\n",
      "77.40843367576599\n",
      "77.05787587165833\n",
      "77.15959239006042\n",
      "78.04625821113586\n",
      "77.85555791854858\n",
      "77.45974063873291\n",
      "77.65426659584045\n"
     ]
    }
   ],
   "source": [
    "err_list = []\n",
    "for k in [1,5,9,13,27]:\n",
    "    print(\"-----------------------------------------------------\")\n",
    "    print(\"K\")\n",
    "    print(k)\n",
    "    print(\"----------------------------------------------------\")\n",
    "    test_lr = classifyKNN(A_lr, x_test.reshape(10000,784), k)\n",
    "    errors = 0\n",
    "    for i in range(10000):\n",
    "        if y_test[i] != test_lr[i]:\n",
    "            errors += 1\n",
    "    err_list.append(errors/10000)"
   ]
  },
  {
   "cell_type": "code",
   "execution_count": 17,
   "metadata": {},
   "outputs": [
    {
     "data": {
      "text/plain": [
       "Text(0, 0.5, 'error rate')"
      ]
     },
     "execution_count": 17,
     "metadata": {},
     "output_type": "execute_result"
    },
    {
     "data": {
      "image/png": "[encoded data removed]",
      "text/plain": [
       "<Figure size 432x288 with 1 Axes>"
      ]
     },
     "metadata": {
      "needs_background": "light"
     },
     "output_type": "display_data"
    }
   ],
   "source": [
    "plt.plot([1,5,9,13,27], err_list)\n",
    "plt.xlabel(\"k\")\n",
    "plt.ylabel(\"error rate\")"
   ]
  },
  {
   "cell_type": "code",
   "execution_count": 18,
   "metadata": {},
   "outputs": [
    {
     "name": "stdout",
     "output_type": "stream",
     "text": [
      "[0.0309, 0.0309, 0.0338, 0.0347, 0.0396]\n"
     ]
    }
   ],
   "source": [
    "print(err_list)"
   ]
  },
  {
   "cell_type": "markdown",
   "metadata": {},
   "source": [
    "# 4. Neural Network"
   ]
  },
  {
   "cell_type": "markdown",
   "metadata": {},
   "source": [
    "# 4a. Building a Network, Determining Amount of Hidden Layer Nodes"
   ]
  },
  {
   "cell_type": "markdown",
   "metadata": {},
   "source": [
    "Start by creating a neural network with one hidden layer.  We'll try to determine how many nodes in this first layer is best-suited for the model on the original split of data."
   ]
  },
  {
   "cell_type": "markdown",
   "metadata": {},
   "source": [
    "NOTE: All of the explanations for how I decided the basic parameters for this model are explained in the cell below. These explanations will not be repeated in future cells.  The purpose of this first cell is to get a general idea of the optimal dimensionality of the hidden relu layer.  We will use 5 epochs for speed to get a general idea, until we pare down to a smaller range.  We'll evaluate which is the best based on the same test set."
   ]
  },
  {
   "cell_type": "code",
   "execution_count": 191,
   "metadata": {},
   "outputs": [
    {
     "name": "stdout",
     "output_type": "stream",
     "text": [
      "10\n",
      "Train on 60000 samples\n",
      "Epoch 1/5\n",
      "60000/60000 [==============================] - 3s 53us/sample - loss: 2.5806 - acc: 0.2021\n",
      "Epoch 2/5\n",
      "60000/60000 [==============================] - 3s 51us/sample - loss: 1.8119 - acc: 0.3108\n",
      "Epoch 3/5\n",
      "60000/60000 [==============================] - 3s 47us/sample - loss: 1.4724 - acc: 0.4534\n",
      "Epoch 4/5\n",
      "60000/60000 [==============================] - 3s 48us/sample - loss: 1.2424 - acc: 0.5303\n",
      "Epoch 5/5\n",
      "60000/60000 [==============================] - 3s 49us/sample - loss: 0.9845 - acc: 0.6342\n",
      "110\n",
      "Train on 60000 samples\n",
      "Epoch 1/5\n",
      "60000/60000 [==============================] - 4s 69us/sample - loss: 2.2360 - acc: 0.8387\n",
      "Epoch 2/5\n",
      "60000/60000 [==============================] - 4s 68us/sample - loss: 0.4068 - acc: 0.9015\n",
      "Epoch 3/5\n",
      "60000/60000 [==============================] - 3s 57us/sample - loss: 0.2834 - acc: 0.9279\n",
      "Epoch 4/5\n",
      "60000/60000 [==============================] - 4s 58us/sample - loss: 0.2404 - acc: 0.9387\n",
      "Epoch 5/5\n",
      "60000/60000 [==============================] - 3s 58us/sample - loss: 0.2287 - acc: 0.9409\n",
      "210\n",
      "Train on 60000 samples\n",
      "Epoch 1/5\n",
      "60000/60000 [==============================] - 5s 82us/sample - loss: 2.4422 - acc: 0.8806\n",
      "Epoch 2/5\n",
      "60000/60000 [==============================] - 4s 69us/sample - loss: 0.3531 - acc: 0.9218\n",
      "Epoch 3/5\n",
      "60000/60000 [==============================] - 4s 69us/sample - loss: 0.2765 - acc: 0.9354\n",
      "Epoch 4/5\n",
      "60000/60000 [==============================] - 4s 68us/sample - loss: 0.2480 - acc: 0.9420\n",
      "Epoch 5/5\n",
      "60000/60000 [==============================] - 4s 72us/sample - loss: 0.2275 - acc: 0.9463\n",
      "310\n",
      "Train on 60000 samples\n",
      "Epoch 1/5\n",
      "60000/60000 [==============================] - 5s 80us/sample - loss: 2.6417 - acc: 0.8994\n",
      "Epoch 2/5\n",
      "60000/60000 [==============================] - 5s 76us/sample - loss: 0.3415 - acc: 0.9332\n",
      "Epoch 3/5\n",
      "60000/60000 [==============================] - 5s 82us/sample - loss: 0.2674 - acc: 0.9403\n",
      "Epoch 4/5\n",
      "60000/60000 [==============================] - 4s 75us/sample - loss: 0.2583 - acc: 0.9438\n",
      "Epoch 5/5\n",
      "60000/60000 [==============================] - 5s 84us/sample - loss: 0.2279 - acc: 0.9493\n",
      "410\n",
      "Train on 60000 samples\n",
      "Epoch 1/5\n",
      "60000/60000 [==============================] - 9s 147us/sample - loss: 2.5194 - acc: 0.9040\n",
      "Epoch 2/5\n",
      "60000/60000 [==============================] - 7s 123us/sample - loss: 0.3472 - acc: 0.9341\n",
      "Epoch 3/5\n",
      "60000/60000 [==============================] - 8s 128us/sample - loss: 0.2880 - acc: 0.9401\n",
      "Epoch 4/5\n",
      "60000/60000 [==============================] - 8s 128us/sample - loss: 0.2706 - acc: 0.9447\n",
      "Epoch 5/5\n",
      "60000/60000 [==============================] - 8s 128us/sample - loss: 0.2435 - acc: 0.9496\n",
      "510\n",
      "Train on 60000 samples\n",
      "Epoch 1/5\n",
      "60000/60000 [==============================] - 8s 137us/sample - loss: 2.6872 - acc: 0.9067\n",
      "Epoch 2/5\n",
      "60000/60000 [==============================] - 8s 138us/sample - loss: 0.3337 - acc: 0.9363\n",
      "Epoch 3/5\n",
      "60000/60000 [==============================] - 9s 143us/sample - loss: 0.2853 - acc: 0.9431\n",
      "Epoch 4/5\n",
      "60000/60000 [==============================] - 8s 138us/sample - loss: 0.2671 - acc: 0.9473\n",
      "Epoch 5/5\n",
      "60000/60000 [==============================] - 8s 141us/sample - loss: 0.2427 - acc: 0.9496\n",
      "610\n",
      "Train on 60000 samples\n",
      "Epoch 1/5\n",
      "60000/60000 [==============================] - 10s 170us/sample - loss: 2.8289 - acc: 0.9097\n",
      "Epoch 2/5\n",
      "60000/60000 [==============================] - 10s 163us/sample - loss: 0.3541 - acc: 0.9414\n",
      "Epoch 3/5\n",
      "60000/60000 [==============================] - 10s 163us/sample - loss: 0.3162 - acc: 0.9421\n",
      "Epoch 4/5\n",
      "60000/60000 [==============================] - 10s 161us/sample - loss: 0.2735 - acc: 0.9480\n",
      "Epoch 5/5\n",
      "60000/60000 [==============================] - 10s 165us/sample - loss: 0.2483 - acc: 0.9506\n",
      "710\n",
      "Train on 60000 samples\n",
      "Epoch 1/5\n",
      "60000/60000 [==============================] - 11s 180us/sample - loss: 2.6764 - acc: 0.9095\n",
      "Epoch 2/5\n",
      "60000/60000 [==============================] - 11s 176us/sample - loss: 0.3432 - acc: 0.9391\n",
      "Epoch 3/5\n",
      "60000/60000 [==============================] - 11s 185us/sample - loss: 0.3332 - acc: 0.9418\n",
      "Epoch 4/5\n",
      "60000/60000 [==============================] - 11s 178us/sample - loss: 0.2696 - acc: 0.9471\n",
      "Epoch 5/5\n",
      "60000/60000 [==============================] - 11s 184us/sample - loss: 0.2480 - acc: 0.9514\n",
      "810\n",
      "Train on 60000 samples\n",
      "Epoch 1/5\n",
      "60000/60000 [==============================] - 12s 203us/sample - loss: 2.6319 - acc: 0.9114\n",
      "Epoch 2/5\n",
      "60000/60000 [==============================] - 12s 206us/sample - loss: 0.3520 - acc: 0.9374\n",
      "Epoch 3/5\n",
      "60000/60000 [==============================] - 12s 195us/sample - loss: 0.3196 - acc: 0.9422\n",
      "Epoch 4/5\n",
      "60000/60000 [==============================] - 12s 199us/sample - loss: 0.2917 - acc: 0.9461\n",
      "Epoch 5/5\n",
      "60000/60000 [==============================] - 12s 193us/sample - loss: 0.2499 - acc: 0.9517\n",
      "910\n",
      "Train on 60000 samples\n",
      "Epoch 1/5\n",
      "60000/60000 [==============================] - 13s 213us/sample - loss: 2.8080 - acc: 0.9118\n",
      "Epoch 2/5\n",
      "60000/60000 [==============================] - 12s 198us/sample - loss: 0.3906 - acc: 0.9384\n",
      "Epoch 3/5\n",
      "60000/60000 [==============================] - 12s 205us/sample - loss: 0.3436 - acc: 0.9417\n",
      "Epoch 4/5\n",
      "60000/60000 [==============================] - 12s 208us/sample - loss: 0.3035 - acc: 0.9459\n",
      "Epoch 5/5\n",
      "60000/60000 [==============================] - 13s 210us/sample - loss: 0.2935 - acc: 0.9499\n"
     ]
    }
   ],
   "source": [
    "# dimensions and error for those dimensions\n",
    "dim = range(10,1010,100)\n",
    "err = []\n",
    "\n",
    "for i in dim:\n",
    "    print(i)\n",
    "    # First Layer: relu function- This allows for quick computation as we sort through the dimensionality of the data\n",
    "    # Output Layer: Softmax function in the output layer since we have > 2 output classes\n",
    "    # Softmax allows for a good probabilistic interpretation (between 0 and 1), to compare the output classes with one another.  \n",
    "    # We know there are ten classes, so we'll set dimensionality (units) of output layer to ten\n",
    "    model = tf.keras.models.Sequential([tf.keras.layers.Dense(i,activation='relu'),\n",
    "                                        tf.keras.layers.Dense(10, activation='softmax')])\n",
    "\n",
    "    # We don't want to have problems with outliers,so we won't use mean squared error.  \n",
    "    # Our data is categorical, so categorical cross entrpy makes sense.\n",
    "    # Since we have y_train as ints, and we didn't one-hot encode, we have to use sparse_categorical_crossentropy\n",
    "    # It's faster anyway, see https://stats.stackexchange.com/questions/326065/cross-entropy-vs-sparse-cross-entropy-when-to-use-one-over-the-other\n",
    "    # Use adam optimizer (seems to be standard for stochastic gradient descent from looking online)\n",
    "    # Will change optimizer if problems are found.  Same with default learning rate of .001 that comes with optimizer\n",
    "    # Accuracy defaults to categorical accuracy: see https://www.tensorflow.org/api_docs/python/tf/keras/Model#compile\n",
    "    model.compile(loss='sparse_categorical_crossentropy', optimizer='adam', metrics=['acc'])\n",
    "\n",
    "    model.fit(A_lr, y_train, epochs=5)\n",
    "\n",
    "    pred = np.argmax(model.predict(x_test_vectorized.T), axis=1)\n",
    "    \n",
    "    err.append(sum(y_test != pred)/len(y_test))"
   ]
  },
  {
   "cell_type": "markdown",
   "metadata": {},
   "source": [
    "Note: dim[0] was very large and skewed the shape of the graph so was excluded."
   ]
  },
  {
   "cell_type": "code",
   "execution_count": 193,
   "metadata": {},
   "outputs": [
    {
     "data": {
      "text/plain": [
       "Text(0.5, 0, 'Dimensionality of Relu layer')"
      ]
     },
     "execution_count": 193,
     "metadata": {},
     "output_type": "execute_result"
    },
    {
     "data": {
      "image/png": "[encoded data removed]",
      "text/plain": [
       "<Figure size 432x288 with 1 Axes>"
      ]
     },
     "metadata": {
      "needs_background": "light"
     },
     "output_type": "display_data"
    }
   ],
   "source": [
    "plt.plot(dim[1:10], err[1:10])\n",
    "plt.ylabel(\"Error Rate\")\n",
    "plt.xlabel(\"Dimensionality of Relu layer\")"
   ]
  },
  {
   "cell_type": "markdown",
   "metadata": {},
   "source": [
    "Clearly, we should look closer in the 600-800 range.  So, I'm gonna lower the jumps to 20 to see if we can find a good dimensionality.  Maybe 712 makes sense since that's how many singular values we had, I'll make sure to pass through that number."
   ]
  },
  {
   "cell_type": "code",
   "execution_count": 8,
   "metadata": {},
   "outputs": [
    {
     "name": "stdout",
     "output_type": "stream",
     "text": [
      "652\n",
      "Train on 60000 samples\n",
      "Epoch 1/5\n",
      "60000/60000 [==============================] - 13s 210us/sample - loss: 2.4897 - acc: 0.9088\n",
      "Epoch 2/5\n",
      "60000/60000 [==============================] - 11s 180us/sample - loss: 0.3494 - acc: 0.9382\n",
      "Epoch 3/5\n",
      "60000/60000 [==============================] - 11s 183us/sample - loss: 0.3139 - acc: 0.9408\n",
      "Epoch 4/5\n",
      "60000/60000 [==============================] - 11s 188us/sample - loss: 0.2777 - acc: 0.9477\n",
      "Epoch 5/5\n",
      "60000/60000 [==============================] - 11s 177us/sample - loss: 0.2607 - acc: 0.9505\n",
      "672\n",
      "Train on 60000 samples\n",
      "Epoch 1/5\n",
      "60000/60000 [==============================] - 11s 179us/sample - loss: 2.4846 - acc: 0.9089\n",
      "Epoch 2/5\n",
      "60000/60000 [==============================] - 10s 163us/sample - loss: 0.3409 - acc: 0.9381\n",
      "Epoch 3/5\n",
      "60000/60000 [==============================] - 10s 167us/sample - loss: 0.3227 - acc: 0.9391\n",
      "Epoch 4/5\n",
      "60000/60000 [==============================] - 10s 161us/sample - loss: 0.2888 - acc: 0.9441\n",
      "Epoch 5/5\n",
      "60000/60000 [==============================] - 10s 167us/sample - loss: 0.2446 - acc: 0.9511\n",
      "692\n",
      "Train on 60000 samples\n",
      "Epoch 1/5\n",
      "60000/60000 [==============================] - 10s 168us/sample - loss: 2.5881 - acc: 0.9107\n",
      "Epoch 2/5\n",
      "60000/60000 [==============================] - 10s 173us/sample - loss: 0.3402 - acc: 0.9398\n",
      "Epoch 3/5\n",
      "60000/60000 [==============================] - 10s 165us/sample - loss: 0.3144 - acc: 0.9433\n",
      "Epoch 4/5\n",
      "60000/60000 [==============================] - 10s 172us/sample - loss: 0.2958 - acc: 0.9461\n",
      "Epoch 5/5\n",
      "60000/60000 [==============================] - 10s 166us/sample - loss: 0.2558 - acc: 0.9499\n",
      "712\n",
      "Train on 60000 samples\n",
      "Epoch 1/5\n",
      "60000/60000 [==============================] - 10s 171us/sample - loss: 2.5255 - acc: 0.9096\n",
      "Epoch 2/5\n",
      "60000/60000 [==============================] - 10s 173us/sample - loss: 0.3451 - acc: 0.9392\n",
      "Epoch 3/5\n",
      "60000/60000 [==============================] - 10s 168us/sample - loss: 0.3240 - acc: 0.9421\n",
      "Epoch 4/5\n",
      "60000/60000 [==============================] - 10s 171us/sample - loss: 0.2821 - acc: 0.9462\n",
      "Epoch 5/5\n",
      "60000/60000 [==============================] - 10s 169us/sample - loss: 0.2462 - acc: 0.9531\n",
      "732\n",
      "Train on 60000 samples\n",
      "Epoch 1/5\n",
      "60000/60000 [==============================] - 10s 172us/sample - loss: 2.6986 - acc: 0.9132\n",
      "Epoch 2/5\n",
      "60000/60000 [==============================] - 10s 169us/sample - loss: 0.3494 - acc: 0.9412\n",
      "Epoch 3/5\n",
      "60000/60000 [==============================] - 11s 185us/sample - loss: 0.3445 - acc: 0.9409\n",
      "Epoch 4/5\n",
      "60000/60000 [==============================] - 10s 169us/sample - loss: 0.2917 - acc: 0.9460\n",
      "Epoch 5/5\n",
      "60000/60000 [==============================] - 11s 179us/sample - loss: 0.2658 - acc: 0.9488\n",
      "752\n",
      "Train on 60000 samples\n",
      "Epoch 1/5\n",
      "60000/60000 [==============================] - 11s 187us/sample - loss: 2.7204 - acc: 0.9102\n",
      "Epoch 2/5\n",
      "60000/60000 [==============================] - 11s 176us/sample - loss: 0.3652 - acc: 0.9374\n",
      "Epoch 3/5\n",
      "60000/60000 [==============================] - 10s 175us/sample - loss: 0.3382 - acc: 0.9411\n",
      "Epoch 4/5\n",
      "60000/60000 [==============================] - 11s 177us/sample - loss: 0.2885 - acc: 0.9466\n",
      "Epoch 5/5\n",
      "60000/60000 [==============================] - 10s 168us/sample - loss: 0.2456 - acc: 0.9502\n"
     ]
    }
   ],
   "source": [
    "dim2 = range(652,753,20)\n",
    "err2 = []\n",
    "\n",
    "for i in dim2:\n",
    "    print(i)\n",
    "    model = tf.keras.models.Sequential([tf.keras.layers.Dense(i,activation='relu'),\n",
    "                                        tf.keras.layers.Dense(10, activation='softmax')])\n",
    "\n",
    "    model.compile(loss='sparse_categorical_crossentropy', optimizer='adam', metrics=['acc'])\n",
    "\n",
    "    model.fit(A_lr, y_train, epochs=5)\n",
    "\n",
    "    pred2 = np.argmax(model.predict(x_test_vectorized.T), axis=1)\n",
    "    \n",
    "    err2.append(sum(y_test != pred2)/len(y_test))"
   ]
  },
  {
   "cell_type": "code",
   "execution_count": 9,
   "metadata": {},
   "outputs": [
    {
     "data": {
      "text/plain": [
       "Text(0.5, 0, 'Dimensionality of Relu layer')"
      ]
     },
     "execution_count": 9,
     "metadata": {},
     "output_type": "execute_result"
    },
    {
     "data": {
      "image/png": "[encoded data removed]",
      "text/plain": [
       "<Figure size 432x288 with 1 Axes>"
      ]
     },
     "metadata": {
      "needs_background": "light"
     },
     "output_type": "display_data"
    }
   ],
   "source": [
    "plt.plot(dim2, err2)\n",
    "plt.ylabel(\"Error Rate\")\n",
    "plt.xlabel(\"Dimensionality of Relu layer\")"
   ]
  },
  {
   "cell_type": "markdown",
   "metadata": {},
   "source": [
    "Looks like 692 is the best so let's try that with more epochs."
   ]
  },
  {
   "cell_type": "code",
   "execution_count": 10,
   "metadata": {},
   "outputs": [
    {
     "name": "stdout",
     "output_type": "stream",
     "text": [
      "Train on 60000 samples\n",
      "Epoch 1/20\n",
      "60000/60000 [==============================] - 10s 168us/sample - loss: 2.6388 - acc: 0.9101\n",
      "Epoch 2/20\n",
      "60000/60000 [==============================] - 10s 165us/sample - loss: 0.3494 - acc: 0.9394\n",
      "Epoch 3/20\n",
      "60000/60000 [==============================] - 10s 161us/sample - loss: 0.3402 - acc: 0.9405\n",
      "Epoch 4/20\n",
      "60000/60000 [==============================] - 10s 164us/sample - loss: 0.2732 - acc: 0.9468\n",
      "Epoch 5/20\n",
      "60000/60000 [==============================] - 9s 156us/sample - loss: 0.2538 - acc: 0.9491\n",
      "Epoch 6/20\n",
      "60000/60000 [==============================] - 10s 168us/sample - loss: 0.2396 - acc: 0.9513\n",
      "Epoch 7/20\n",
      "60000/60000 [==============================] - 10s 166us/sample - loss: 0.2216 - acc: 0.9558\n",
      "Epoch 8/20\n",
      "60000/60000 [==============================] - 9s 157us/sample - loss: 0.2198 - acc: 0.9577\n",
      "Epoch 9/20\n",
      "60000/60000 [==============================] - 10s 165us/sample - loss: 0.2050 - acc: 0.9603\n",
      "Epoch 10/20\n",
      "60000/60000 [==============================] - 10s 159us/sample - loss: 0.2003 - acc: 0.9614\n",
      "Epoch 11/20\n",
      "60000/60000 [==============================] - 10s 167us/sample - loss: 0.1892 - acc: 0.9643\n",
      "Epoch 12/20\n",
      "60000/60000 [==============================] - 10s 165us/sample - loss: 0.1884 - acc: 0.9657\n",
      "Epoch 13/20\n",
      "60000/60000 [==============================] - 10s 170us/sample - loss: 0.1747 - acc: 0.9664\n",
      "Epoch 14/20\n",
      "60000/60000 [==============================] - 10s 163us/sample - loss: 0.1786 - acc: 0.9669\n",
      "Epoch 15/20\n",
      "60000/60000 [==============================] - 11s 179us/sample - loss: 0.1574 - acc: 0.9687\n",
      "Epoch 16/20\n",
      "60000/60000 [==============================] - 11s 191us/sample - loss: 0.1763 - acc: 0.9693\n",
      "Epoch 17/20\n",
      "60000/60000 [==============================] - 13s 216us/sample - loss: 0.1758 - acc: 0.9682\n",
      "Epoch 18/20\n",
      "60000/60000 [==============================] - 10s 164us/sample - loss: 0.1519 - acc: 0.9715\n",
      "Epoch 19/20\n",
      "60000/60000 [==============================] - 10s 163us/sample - loss: 0.1516 - acc: 0.9721\n",
      "Epoch 20/20\n",
      "60000/60000 [==============================] - 10s 170us/sample - loss: 0.1640 - acc: 0.9710\n"
     ]
    },
    {
     "data": {
      "text/plain": [
       "0.0452"
      ]
     },
     "execution_count": 10,
     "metadata": {},
     "output_type": "execute_result"
    }
   ],
   "source": [
    "model = tf.keras.models.Sequential([tf.keras.layers.Dense(692,activation='relu'),\n",
    "                                    tf.keras.layers.Dense(10, activation='softmax')])\n",
    "\n",
    "model.compile(loss='sparse_categorical_crossentropy', optimizer='adam', metrics=['acc'])\n",
    "\n",
    "model.fit(A_lr, y_train, epochs=20)\n",
    "\n",
    "pred3 = np.argmax(model.predict(x_test_vectorized.T), axis=1)\n",
    "\n",
    "sum(y_test != pred3)/len(y_test)"
   ]
  },
  {
   "cell_type": "markdown",
   "metadata": {},
   "source": [
    "I wonder if 712 is the best actually, let's just try that."
   ]
  },
  {
   "cell_type": "code",
   "execution_count": 11,
   "metadata": {},
   "outputs": [
    {
     "name": "stdout",
     "output_type": "stream",
     "text": [
      "Train on 60000 samples\n",
      "Epoch 1/20\n",
      "60000/60000 [==============================] - 10s 172us/sample - loss: 2.7497 - acc: 0.9123\n",
      "Epoch 2/20\n",
      "60000/60000 [==============================] - 10s 167us/sample - loss: 0.3709 - acc: 0.9380\n",
      "Epoch 3/20\n",
      "60000/60000 [==============================] - 10s 166us/sample - loss: 0.3434 - acc: 0.9406\n",
      "Epoch 4/20\n",
      "60000/60000 [==============================] - 10s 166us/sample - loss: 0.2788 - acc: 0.9466\n",
      "Epoch 5/20\n",
      "60000/60000 [==============================] - 10s 161us/sample - loss: 0.2628 - acc: 0.9506\n",
      "Epoch 6/20\n",
      "60000/60000 [==============================] - 10s 167us/sample - loss: 0.2413 - acc: 0.9538\n",
      "Epoch 7/20\n",
      "60000/60000 [==============================] - 10s 166us/sample - loss: 0.2239 - acc: 0.9562\n",
      "Epoch 8/20\n",
      "60000/60000 [==============================] - 10s 165us/sample - loss: 0.2252 - acc: 0.9573\n",
      "Epoch 9/20\n",
      "60000/60000 [==============================] - 10s 167us/sample - loss: 0.2048 - acc: 0.9615\n",
      "Epoch 10/20\n",
      "60000/60000 [==============================] - 10s 163us/sample - loss: 0.2046 - acc: 0.9634\n",
      "Epoch 11/20\n",
      "60000/60000 [==============================] - 10s 166us/sample - loss: 0.1963 - acc: 0.9645\n",
      "Epoch 12/20\n",
      "60000/60000 [==============================] - 10s 168us/sample - loss: 0.1870 - acc: 0.9654\n",
      "Epoch 13/20\n",
      "60000/60000 [==============================] - 10s 163us/sample - loss: 0.1714 - acc: 0.9675\n",
      "Epoch 14/20\n",
      "60000/60000 [==============================] - 10s 168us/sample - loss: 0.1896 - acc: 0.9674\n",
      "Epoch 15/20\n",
      "60000/60000 [==============================] - 10s 169us/sample - loss: 0.1853 - acc: 0.9684\n",
      "Epoch 16/20\n",
      "60000/60000 [==============================] - 10s 166us/sample - loss: 0.1709 - acc: 0.9698\n",
      "Epoch 17/20\n",
      "60000/60000 [==============================] - 10s 168us/sample - loss: 0.1739 - acc: 0.9698\n",
      "Epoch 18/20\n",
      "60000/60000 [==============================] - 10s 163us/sample - loss: 0.1572 - acc: 0.9717\n",
      "Epoch 19/20\n",
      "60000/60000 [==============================] - 10s 169us/sample - loss: 0.1704 - acc: 0.9707\n",
      "Epoch 20/20\n",
      "60000/60000 [==============================] - ETA: 0s - loss: 0.1619 - acc: 0.971 - 10s 167us/sample - loss: 0.1622 - acc: 0.9710\n"
     ]
    },
    {
     "data": {
      "text/plain": [
       "0.0464"
      ]
     },
     "execution_count": 11,
     "metadata": {},
     "output_type": "execute_result"
    }
   ],
   "source": [
    "model = tf.keras.models.Sequential([tf.keras.layers.Dense(712,activation='relu'),\n",
    "                                    tf.keras.layers.Dense(10, activation='softmax')])\n",
    "\n",
    "model.compile(loss='sparse_categorical_crossentropy', optimizer='adam', metrics=['acc'])\n",
    "\n",
    "model.fit(A_lr, y_train, epochs=20)\n",
    "\n",
    "pred4 = np.argmax(model.predict(x_test_vectorized.T), axis=1)\n",
    "\n",
    "err_nn = sum(y_test != pred4)/len(y_test)\n",
    "\n",
    "err_nn"
   ]
  },
  {
   "cell_type": "markdown",
   "metadata": {},
   "source": [
    "Hmmmm, this is very close. Let's use whatever amount of values we kept in our SVD for our relu dimensionality."
   ]
  },
  {
   "cell_type": "markdown",
   "metadata": {},
   "source": [
    "# 4b. Cross-Validation Neural Networks"
   ]
  },
  {
   "cell_type": "markdown",
   "metadata": {},
   "source": [
    "Let's try running the same thing with our cross-validation sets (except with 10 epochs to go faster).  We'll use the number of singular values we kept as the number of number of hidden nodes and compare to the regular split of training/test."
   ]
  },
  {
   "cell_type": "code",
   "execution_count": 87,
   "metadata": {},
   "outputs": [
    {
     "name": "stdout",
     "output_type": "stream",
     "text": [
      "696\n",
      "Train on 60000 samples\n",
      "Epoch 1/10\n",
      "60000/60000 [==============================] - 11s 184us/sample - loss: 2.5450 - acc: 0.9255\n",
      "Epoch 2/10\n",
      "60000/60000 [==============================] - 10s 164us/sample - loss: 0.4108 - acc: 0.9531\n",
      "Epoch 3/10\n",
      "60000/60000 [==============================] - 9s 158us/sample - loss: 0.3649 - acc: 0.9587\n",
      "Epoch 4/10\n",
      "60000/60000 [==============================] - 10s 160us/sample - loss: 0.3116 - acc: 0.9634\n",
      "Epoch 5/10\n",
      "60000/60000 [==============================] - 10s 163us/sample - loss: 0.2917 - acc: 0.9668\n",
      "Epoch 6/10\n",
      "60000/60000 [==============================] - 10s 165us/sample - loss: 0.2237 - acc: 0.9724\n",
      "Epoch 7/10\n",
      "60000/60000 [==============================] - 11s 177us/sample - loss: 0.2389 - acc: 0.9742\n",
      "Epoch 8/10\n",
      "60000/60000 [==============================] - 10s 167us/sample - loss: 0.1901 - acc: 0.9774\n",
      "Epoch 9/10\n",
      "60000/60000 [==============================] - 10s 168us/sample - loss: 0.2221 - acc: 0.9778\n",
      "Epoch 10/10\n",
      "60000/60000 [==============================] - 10s 169us/sample - loss: 0.1734 - acc: 0.9818\n",
      "692\n",
      "Train on 60000 samples\n",
      "Epoch 1/10\n",
      "60000/60000 [==============================] - 11s 177us/sample - loss: 2.6966 - acc: 0.9267\n",
      "Epoch 2/10\n",
      "60000/60000 [==============================] - 10s 167us/sample - loss: 0.4134 - acc: 0.9545\n",
      "Epoch 3/10\n",
      "60000/60000 [==============================] - 10s 166us/sample - loss: 0.3779 - acc: 0.9567\n",
      "Epoch 4/10\n",
      "60000/60000 [==============================] - 10s 163us/sample - loss: 0.3009 - acc: 0.9629\n",
      "Epoch 5/10\n",
      "60000/60000 [==============================] - 10s 168us/sample - loss: 0.2876 - acc: 0.9676\n",
      "Epoch 6/10\n",
      "60000/60000 [==============================] - 10s 161us/sample - loss: 0.2345 - acc: 0.9704\n",
      "Epoch 7/10\n",
      "60000/60000 [==============================] - 10s 172us/sample - loss: 0.2509 - acc: 0.9740\n",
      "Epoch 8/10\n",
      "60000/60000 [==============================] - 10s 169us/sample - loss: 0.1997 - acc: 0.9766\n",
      "Epoch 9/10\n",
      "60000/60000 [==============================] - 10s 164us/sample - loss: 0.2438 - acc: 0.9755\n",
      "Epoch 10/10\n",
      "60000/60000 [==============================] - 10s 168us/sample - loss: 0.1909 - acc: 0.9813\n",
      "699\n",
      "Train on 60000 samples\n",
      "Epoch 1/10\n",
      "60000/60000 [==============================] - 11s 176us/sample - loss: 2.7698 - acc: 0.9263\n",
      "Epoch 2/10\n",
      "60000/60000 [==============================] - 10s 165us/sample - loss: 0.4965 - acc: 0.9542\n",
      "Epoch 3/10\n",
      "60000/60000 [==============================] - 10s 175us/sample - loss: 0.3655 - acc: 0.9600\n",
      "Epoch 4/10\n",
      "60000/60000 [==============================] - 10s 167us/sample - loss: 0.3639 - acc: 0.9617\n",
      "Epoch 5/10\n",
      "60000/60000 [==============================] - 10s 165us/sample - loss: 0.3040 - acc: 0.9698\n",
      "Epoch 6/10\n",
      "60000/60000 [==============================] - 10s 173us/sample - loss: 0.2744 - acc: 0.9724\n",
      "Epoch 7/10\n",
      "60000/60000 [==============================] - 10s 163us/sample - loss: 0.2708 - acc: 0.9745\n",
      "Epoch 8/10\n",
      "60000/60000 [==============================] - 10s 167us/sample - loss: 0.2263 - acc: 0.9779\n",
      "Epoch 9/10\n",
      "60000/60000 [==============================] - 10s 172us/sample - loss: 0.2252 - acc: 0.9785\n",
      "Epoch 10/10\n",
      "60000/60000 [==============================] - 10s 164us/sample - loss: 0.2027 - acc: 0.9793\n",
      "695\n",
      "Train on 60000 samples\n",
      "Epoch 1/10\n",
      "60000/60000 [==============================] - 10s 173us/sample - loss: 2.7095 - acc: 0.9238\n",
      "Epoch 2/10\n",
      "60000/60000 [==============================] - 10s 170us/sample - loss: 0.4224 - acc: 0.9513\n",
      "Epoch 3/10\n",
      "60000/60000 [==============================] - 10s 166us/sample - loss: 0.3669 - acc: 0.9552\n",
      "Epoch 4/10\n",
      "60000/60000 [==============================] - 10s 169us/sample - loss: 0.2923 - acc: 0.9620\n",
      "Epoch 5/10\n",
      "60000/60000 [==============================] - 10s 172us/sample - loss: 0.3187 - acc: 0.9636\n",
      "Epoch 6/10\n",
      "60000/60000 [==============================] - 10s 168us/sample - loss: 0.2780 - acc: 0.9681\n",
      "Epoch 7/10\n",
      "60000/60000 [==============================] - 10s 171us/sample - loss: 0.2117 - acc: 0.9732\n",
      "Epoch 8/10\n",
      "60000/60000 [==============================] - 10s 165us/sample - loss: 0.1937 - acc: 0.9747\n",
      "Epoch 9/10\n",
      "60000/60000 [==============================] - 10s 171us/sample - loss: 0.2028 - acc: 0.9765\n",
      "Epoch 10/10\n",
      "60000/60000 [==============================] - 10s 170us/sample - loss: 0.1989 - acc: 0.9774\n",
      "697\n",
      "Train on 60000 samples\n",
      "Epoch 1/10\n",
      "60000/60000 [==============================] - 11s 183us/sample - loss: 2.8279 - acc: 0.9259\n",
      "Epoch 2/10\n",
      "60000/60000 [==============================] - 10s 173us/sample - loss: 0.4472 - acc: 0.9535\n",
      "Epoch 3/10\n",
      "60000/60000 [==============================] - 11s 181us/sample - loss: 0.3892 - acc: 0.9577\n",
      "Epoch 4/10\n",
      "60000/60000 [==============================] - 11s 184us/sample - loss: 0.3288 - acc: 0.9621\n",
      "Epoch 5/10\n",
      "60000/60000 [==============================] - 11s 184us/sample - loss: 0.2892 - acc: 0.9666\n",
      "Epoch 6/10\n",
      "60000/60000 [==============================] - 11s 185us/sample - loss: 0.2740 - acc: 0.9699\n",
      "Epoch 7/10\n",
      "60000/60000 [==============================] - 11s 177us/sample - loss: 0.2151 - acc: 0.9748\n",
      "Epoch 8/10\n",
      "60000/60000 [==============================] - 12s 195us/sample - loss: 0.2573 - acc: 0.9749\n",
      "Epoch 9/10\n",
      "60000/60000 [==============================] - 12s 194us/sample - loss: 0.2018 - acc: 0.9779\n",
      "Epoch 10/10\n",
      "60000/60000 [==============================] - 12s 196us/sample - loss: 0.2116 - acc: 0.9787\n",
      "695\n",
      "Train on 60000 samples\n",
      "Epoch 1/10\n",
      "60000/60000 [==============================] - 11s 190us/sample - loss: 2.4783 - acc: 0.9246\n",
      "Epoch 2/10\n",
      "60000/60000 [==============================] - 11s 187us/sample - loss: 0.4804 - acc: 0.9525\n",
      "Epoch 3/10\n",
      "60000/60000 [==============================] - 11s 189us/sample - loss: 0.3830 - acc: 0.9596\n",
      "Epoch 4/10\n",
      "60000/60000 [==============================] - 12s 194us/sample - loss: 0.3133 - acc: 0.9649\n",
      "Epoch 5/10\n",
      "60000/60000 [==============================] - 10s 172us/sample - loss: 0.2776 - acc: 0.9679\n",
      "Epoch 6/10\n",
      "60000/60000 [==============================] - 10s 171us/sample - loss: 0.2546 - acc: 0.9696\n",
      "Epoch 7/10\n",
      "60000/60000 [==============================] - 12s 199us/sample - loss: 0.2529 - acc: 0.9722\n",
      "Epoch 8/10\n",
      "60000/60000 [==============================] - 16s 274us/sample - loss: 0.1977 - acc: 0.9767\n",
      "Epoch 9/10\n",
      "60000/60000 [==============================] - 15s 254us/sample - loss: 0.1964 - acc: 0.9790\n",
      "Epoch 10/10\n",
      "60000/60000 [==============================] - 13s 213us/sample - loss: 0.1791 - acc: 0.9790\n",
      "699\n",
      "Train on 60000 samples\n",
      "Epoch 1/10\n",
      "60000/60000 [==============================] - 12s 207us/sample - loss: 2.5113 - acc: 0.9274\n",
      "Epoch 2/10\n",
      "60000/60000 [==============================] - 14s 229us/sample - loss: 0.4431 - acc: 0.9554\n",
      "Epoch 3/10\n",
      "60000/60000 [==============================] - 12s 206us/sample - loss: 0.4041 - acc: 0.9572\n",
      "Epoch 4/10\n",
      "60000/60000 [==============================] - 12s 204us/sample - loss: 0.3246 - acc: 0.9641\n",
      "Epoch 5/10\n",
      "60000/60000 [==============================] - 12s 197us/sample - loss: 0.3167 - acc: 0.9665\n",
      "Epoch 6/10\n",
      "60000/60000 [==============================] - 13s 211us/sample - loss: 0.2521 - acc: 0.9710\n",
      "Epoch 7/10\n",
      "60000/60000 [==============================] - 13s 212us/sample - loss: 0.2259 - acc: 0.9736\n",
      "Epoch 8/10\n",
      "60000/60000 [==============================] - 13s 216us/sample - loss: 0.2321 - acc: 0.9762\n",
      "Epoch 9/10\n",
      "60000/60000 [==============================] - 13s 222us/sample - loss: 0.2242 - acc: 0.9784\n",
      "Epoch 10/10\n",
      "60000/60000 [==============================] - 11s 183us/sample - loss: 0.1995 - acc: 0.9804\n"
     ]
    }
   ],
   "source": [
    "err_nn_x = [0,0,0,0,0,0,0]\n",
    "\n",
    "for k in range(7):\n",
    "    print(len(s_red_x[k]))\n",
    "\n",
    "    model2 = tf.keras.models.Sequential([tf.keras.layers.Dense(len(s_red_x[k]),activation='relu'),\n",
    "                                        tf.keras.layers.Dense(10, activation='softmax')])\n",
    "\n",
    "    model2.compile(loss='sparse_categorical_crossentropy', optimizer='adam', metrics=['acc'])\n",
    "\n",
    "    model2.fit(A_lr_x[k], y_train_x[k], epochs=10)\n",
    "\n",
    "    tmp = np.argmax(model2.predict(x_test_x[k]), axis=1)\n",
    "\n",
    "    err_nn_x[k] = sum(y_test_x[k] != tmp)/len(y_test_x[k])"
   ]
  },
  {
   "cell_type": "markdown",
   "metadata": {},
   "source": [
    "Have to re-run the regular cross-validation set with 10 epochs."
   ]
  },
  {
   "cell_type": "code",
   "execution_count": 88,
   "metadata": {},
   "outputs": [
    {
     "name": "stdout",
     "output_type": "stream",
     "text": [
      "Train on 60000 samples\n",
      "Epoch 1/10\n",
      "60000/60000 [==============================] - 12s 196us/sample - loss: 2.6142 - acc: 0.9104\n",
      "Epoch 2/10\n",
      "60000/60000 [==============================] - 11s 189us/sample - loss: 0.3435 - acc: 0.9387\n",
      "Epoch 3/10\n",
      "60000/60000 [==============================] - 11s 178us/sample - loss: 0.3221 - acc: 0.9417\n",
      "Epoch 4/10\n",
      "60000/60000 [==============================] - 11s 186us/sample - loss: 0.2637 - acc: 0.9476\n",
      "Epoch 5/10\n",
      "60000/60000 [==============================] - 12s 195us/sample - loss: 0.2689 - acc: 0.9498\n",
      "Epoch 6/10\n",
      "60000/60000 [==============================] - 11s 186us/sample - loss: 0.2482 - acc: 0.9545\n",
      "Epoch 7/10\n",
      "60000/60000 [==============================] - 12s 196us/sample - loss: 0.2081 - acc: 0.9588\n",
      "Epoch 8/10\n",
      "60000/60000 [==============================] - 9s 154us/sample - loss: 0.2055 - acc: 0.9605\n",
      "Epoch 9/10\n",
      "60000/60000 [==============================] - 10s 171us/sample - loss: 0.1799 - acc: 0.9637\n",
      "Epoch 10/10\n",
      "60000/60000 [==============================] - 10s 167us/sample - loss: 0.1878 - acc: 0.9631\n"
     ]
    },
    {
     "data": {
      "text/plain": [
       "0.0462"
      ]
     },
     "execution_count": 88,
     "metadata": {},
     "output_type": "execute_result"
    }
   ],
   "source": [
    "model = tf.keras.models.Sequential([tf.keras.layers.Dense(712,activation='relu'),\n",
    "                                    tf.keras.layers.Dense(10, activation='softmax')])\n",
    "\n",
    "model.compile(loss='sparse_categorical_crossentropy', optimizer='adam', metrics=['acc'])\n",
    "model.fit(A_lr, y_train, epochs=10)\n",
    "pred4 = np.argmax(model.predict(x_test_vectorized.T), axis=1)\n",
    "err_nn = sum(y_test != pred4)/len(y_test)\n",
    "\n",
    "err_nn"
   ]
  },
  {
   "cell_type": "code",
   "execution_count": 109,
   "metadata": {},
   "outputs": [
    {
     "data": {
      "image/png": "[encoded data removed]",
      "text/plain": [
       "<Figure size 432x288 with 1 Axes>"
      ]
     },
     "metadata": {
      "needs_background": "light"
     },
     "output_type": "display_data"
    }
   ],
   "source": [
    "pltme = err_nn_x + [err_nn]\n",
    "plt.bar(['X-Val-1','X-Val-2','X-Val-3','X-Val-4','X-Val-5','X-Val-6','X-Val-7','Regular'], pltme, color = ('b','b','b','b','b','b','b','r'))\n",
    "plt.xlabel('Cross-Validation set or Regular Split')\n",
    "plt.ylabel('Error')\n",
    "plt.hlines(np.mean(err_nn_x),-.5,6.5)\n",
    "plt.show()"
   ]
  },
  {
   "cell_type": "code",
   "execution_count": 110,
   "metadata": {},
   "outputs": [
    {
     "data": {
      "text/plain": [
       "0.034871428571428574"
      ]
     },
     "execution_count": 110,
     "metadata": {},
     "output_type": "execute_result"
    }
   ],
   "source": [
    "np.mean(err_nn_x)"
   ]
  },
  {
   "cell_type": "code",
   "execution_count": 63,
   "metadata": {},
   "outputs": [],
   "source": [
    "tst = A_lr_x[0].reshape(60000,28,28)\n",
    "tst2 = [np.round(1.0*i/256) for i in tst] "
   ]
  },
  {
   "cell_type": "code",
   "execution_count": 64,
   "metadata": {},
   "outputs": [
    {
     "data": {
      "image/png": "[encoded data removed]",
      "text/plain": [
       "<Figure size 432x288 with 25 Axes>"
      ]
     },
     "metadata": {},
     "output_type": "display_data"
    }
   ],
   "source": [
    "show_images(tst2, 5, 5)"
   ]
  },
  {
   "cell_type": "code",
   "execution_count": null,
   "metadata": {},
   "outputs": [],
   "source": []
  }
 ],
 "metadata": {
  "kernelspec": {
   "display_name": "Python 3",
   "language": "python",
   "name": "python3"
  },
  "language_info": {
   "codemirror_mode": {
    "name": "ipython",
    "version": 3
   },
   "file_extension": ".py",
   "mimetype": "text/x-python",
   "name": "python",
   "nbconvert_exporter": "python",
   "pygments_lexer": "ipython3",
   "version": "3.7.6"
  }
 },
 "nbformat": 4,
 "nbformat_minor": 4
}

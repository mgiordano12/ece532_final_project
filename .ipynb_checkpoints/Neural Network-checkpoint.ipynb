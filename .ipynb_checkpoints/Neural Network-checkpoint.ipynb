{
 "cells": [
  {
   "cell_type": "code",
   "execution_count": 1,
   "metadata": {},
   "outputs": [],
   "source": [
    "import numpy as np\n",
    "import tensorflow as tf\n",
    "import matplotlib.pyplot as plt \n",
    "from matplotlib import pyplot as plt\n",
    "\n",
    "(x_train, y_train), (x_test, y_test) = tf.keras.datasets.mnist.load_data()"
   ]
  },
  {
   "cell_type": "code",
   "execution_count": 2,
   "metadata": {},
   "outputs": [],
   "source": [
    "# Vectorize and put data columnwise\n",
    "x_train_vectorized = x_train.reshape(60000,784).T\n",
    "\n",
    "# Remove means\n",
    "means = np.mean(x_train_vectorized, 1).reshape(784,1)\n",
    "x_train_mr = x_train_vectorized - means"
   ]
  },
  {
   "cell_type": "code",
   "execution_count": 3,
   "metadata": {},
   "outputs": [],
   "source": [
    "U,s,VT = np.linalg.svd(x_train_mr,full_matrices=False)"
   ]
  },
  {
   "cell_type": "code",
   "execution_count": 4,
   "metadata": {},
   "outputs": [
    {
     "data": {
      "text/plain": [
       "Text(0, 0.5, 'Log(Singular Value)')"
      ]
     },
     "execution_count": 4,
     "metadata": {},
     "output_type": "execute_result"
    },
    {
     "data": {
      "image/png": "[encoded data removed]",
      "text/plain": [
       "<Figure size 432x288 with 1 Axes>"
      ]
     },
     "metadata": {
      "needs_background": "light"
     },
     "output_type": "display_data"
    }
   ],
   "source": [
    "# If we take a quick look at s, there's a clear cut off where the singular values drop under 1\n",
    "plt.plot(range(784), np.log(s))\n",
    "plt.xlabel(\"Singular Value Index\")\n",
    "plt.ylabel(\"Log(Singular Value)\")"
   ]
  },
  {
   "cell_type": "code",
   "execution_count": 5,
   "metadata": {},
   "outputs": [],
   "source": [
    "# Let's grab those first ones\n",
    "s_red = [ i for i in s if i > 1]\n",
    "\n",
    "# And get our new matrix\n",
    "A  = U[:,:len(s_red)]@np.diag(s_red)@VT[:len(s_red),:]\n",
    "\n",
    "# Add back means and make data rowwise again\n",
    "A_lr = (A+means).T"
   ]
  },
  {
   "cell_type": "code",
   "execution_count": 35,
   "metadata": {},
   "outputs": [
    {
     "name": "stdout",
     "output_type": "stream",
     "text": [
      "(60000, 784)\n",
      "(60000, 784)\n"
     ]
    }
   ],
   "source": [
    "print(x_train_vectorized.T.shape)\n",
    "print(A_lr.shape)"
   ]
  },
  {
   "cell_type": "code",
   "execution_count": 6,
   "metadata": {},
   "outputs": [],
   "source": [
    "## function to plot images in grid\n",
    "#  Used in ECE: 601 HW as well \n",
    "def show_images(images, rows, cols):\n",
    "    for i in range(rows * cols):\n",
    "        plt.subplot(rows, cols, i + 1)\n",
    "        plt.imshow(images[i], cmap=plt.cm.gray_r)\n",
    "        plt.xticks(())\n",
    "        plt.yticks(())\n",
    "    plt.show()"
   ]
  },
  {
   "cell_type": "code",
   "execution_count": 7,
   "metadata": {},
   "outputs": [
    {
     "name": "stdout",
     "output_type": "stream",
     "text": [
      "(784, 712)\n",
      "712\n",
      "(712, 60000)\n"
     ]
    }
   ],
   "source": [
    "print(U[:,:len(s_red)].shape)\n",
    "print(len(s_red))\n",
    "print(VT[:len(s_red),:].shape)"
   ]
  },
  {
   "cell_type": "code",
   "execution_count": 21,
   "metadata": {},
   "outputs": [],
   "source": [
    "x_test_vectorized = x_test.reshape(10000,784)"
   ]
  },
  {
   "cell_type": "code",
   "execution_count": 36,
   "metadata": {},
   "outputs": [
    {
     "name": "stdout",
     "output_type": "stream",
     "text": [
      "10\n",
      "Train on 60000 samples\n",
      "Epoch 1/5\n",
      "60000/60000 [==============================] - 3s 49us/sample - loss: 2.7701 - acc: 0.1761\n",
      "Epoch 2/5\n",
      "60000/60000 [==============================] - 3s 46us/sample - loss: 1.9784 - acc: 0.2475\n",
      "Epoch 3/5\n",
      "60000/60000 [==============================] - 3s 47us/sample - loss: 1.6647 - acc: 0.3514\n",
      "Epoch 4/5\n",
      "60000/60000 [==============================] - 3s 43us/sample - loss: 1.5343 - acc: 0.3798\n",
      "Epoch 5/5\n",
      "60000/60000 [==============================] - 3s 44us/sample - loss: 1.4391 - acc: 0.4180\n",
      "110\n",
      "Train on 60000 samples\n",
      "Epoch 1/5\n",
      "60000/60000 [==============================] - 4s 62us/sample - loss: 2.6706 - acc: 0.8433\n",
      "Epoch 2/5\n",
      "60000/60000 [==============================] - 3s 57us/sample - loss: 0.4072 - acc: 0.9026\n",
      "Epoch 3/5\n",
      "60000/60000 [==============================] - 4s 63us/sample - loss: 0.3032 - acc: 0.9243\n",
      "Epoch 4/5\n",
      "60000/60000 [==============================] - 4s 60us/sample - loss: 0.2547 - acc: 0.9347\n",
      "Epoch 5/5\n",
      "60000/60000 [==============================] - 3s 57us/sample - loss: 0.2286 - acc: 0.9412\n",
      "210\n",
      "Train on 60000 samples\n",
      "Epoch 1/5\n",
      "60000/60000 [==============================] - 4s 67us/sample - loss: 2.5999 - acc: 0.8849\n",
      "Epoch 2/5\n",
      "60000/60000 [==============================] - 4s 68us/sample - loss: 0.3452 - acc: 0.9229\n",
      "Epoch 3/5\n",
      "60000/60000 [==============================] - 4s 63us/sample - loss: 0.2729 - acc: 0.9361\n",
      "Epoch 4/5\n",
      "60000/60000 [==============================] - 4s 64us/sample - loss: 0.2500 - acc: 0.9391\n",
      "Epoch 5/5\n",
      "60000/60000 [==============================] - 4s 65us/sample - loss: 0.2225 - acc: 0.9460\n",
      "310\n",
      "Train on 60000 samples\n",
      "Epoch 1/5\n",
      "60000/60000 [==============================] - 5s 79us/sample - loss: 2.4147 - acc: 0.8954\n",
      "Epoch 2/5\n",
      "60000/60000 [==============================] - 4s 70us/sample - loss: 0.3011 - acc: 0.9335\n",
      "Epoch 3/5\n",
      "60000/60000 [==============================] - 4s 73us/sample - loss: 0.2702 - acc: 0.9385\n",
      "Epoch 4/5\n",
      "60000/60000 [==============================] - 5s 76us/sample - loss: 0.2386 - acc: 0.9448\n",
      "Epoch 5/5\n",
      "60000/60000 [==============================] - 5s 77us/sample - loss: 0.2220 - acc: 0.9483\n",
      "410\n",
      "Train on 60000 samples\n",
      "Epoch 1/5\n",
      "60000/60000 [==============================] - 7s 111us/sample - loss: 2.6194 - acc: 0.9020\n",
      "Epoch 2/5\n",
      "60000/60000 [==============================] - 7s 115us/sample - loss: 0.3303 - acc: 0.9352\n",
      "Epoch 3/5\n",
      "60000/60000 [==============================] - 6s 108us/sample - loss: 0.2963 - acc: 0.9383\n",
      "Epoch 4/5\n",
      "60000/60000 [==============================] - 7s 109us/sample - loss: 0.2676 - acc: 0.9445\n",
      "Epoch 5/5\n",
      "60000/60000 [==============================] - 7s 112us/sample - loss: 0.2466 - acc: 0.9491\n",
      "510\n",
      "Train on 60000 samples\n",
      "Epoch 1/5\n",
      "60000/60000 [==============================] - 8s 131us/sample - loss: 2.7450 - acc: 0.9063\n",
      "Epoch 2/5\n",
      "60000/60000 [==============================] - 8s 129us/sample - loss: 0.3279 - acc: 0.9379\n",
      "Epoch 3/5\n",
      "60000/60000 [==============================] - 7s 123us/sample - loss: 0.3067 - acc: 0.9418\n",
      "Epoch 4/5\n",
      "60000/60000 [==============================] - 8s 126us/sample - loss: 0.2812 - acc: 0.9435\n",
      "Epoch 5/5\n",
      "60000/60000 [==============================] - 7s 122us/sample - loss: 0.2537 - acc: 0.9485\n",
      "610\n",
      "Train on 60000 samples\n",
      "Epoch 1/5\n",
      "60000/60000 [==============================] - 9s 146us/sample - loss: 2.6260 - acc: 0.9072\n",
      "Epoch 2/5\n",
      "60000/60000 [==============================] - 8s 138us/sample - loss: 0.3443 - acc: 0.9386\n",
      "Epoch 3/5\n",
      "60000/60000 [==============================] - ETA: 0s - loss: 0.3180 - acc: 0.941 - 9s 144us/sample - loss: 0.3179 - acc: 0.9414\n",
      "Epoch 4/5\n",
      "60000/60000 [==============================] - 9s 149us/sample - loss: 0.2939 - acc: 0.9456\n",
      "Epoch 5/5\n",
      "60000/60000 [==============================] - 9s 146us/sample - loss: 0.2568 - acc: 0.9499\n",
      "710\n",
      "Train on 60000 samples\n",
      "Epoch 1/5\n",
      "60000/60000 [==============================] - 10s 165us/sample - loss: 2.7554 - acc: 0.9092\n",
      "Epoch 2/5\n",
      "60000/60000 [==============================] - 9s 155us/sample - loss: 0.3327 - acc: 0.9396\n",
      "Epoch 3/5\n",
      "60000/60000 [==============================] - 10s 165us/sample - loss: 0.3230 - acc: 0.9412\n",
      "Epoch 4/5\n",
      "60000/60000 [==============================] - 10s 168us/sample - loss: 0.3035 - acc: 0.9441\n",
      "Epoch 5/5\n",
      "60000/60000 [==============================] - 12s 200us/sample - loss: 0.2553 - acc: 0.9505\n",
      "810\n",
      "Train on 60000 samples\n",
      "Epoch 1/5\n",
      "60000/60000 [==============================] - 16s 264us/sample - loss: 2.6557 - acc: 0.9112 - loss: 2.78\n",
      "Epoch 2/5\n",
      "60000/60000 [==============================] - 13s 214us/sample - loss: 0.3489 - acc: 0.9398\n",
      "Epoch 3/5\n",
      "60000/60000 [==============================] - 13s 220us/sample - loss: 0.3721 - acc: 0.9385\n",
      "Epoch 4/5\n",
      "60000/60000 [==============================] - 15s 258us/sample - loss: 0.2836 - acc: 0.9470\n",
      "Epoch 5/5\n",
      "60000/60000 [==============================] - 14s 238us/sample - loss: 0.2510 - acc: 0.9525\n",
      "910\n",
      "Train on 60000 samples\n",
      "Epoch 1/5\n",
      "60000/60000 [==============================] - 14s 229us/sample - loss: 2.8854 - acc: 0.9143\n",
      "Epoch 2/5\n",
      "60000/60000 [==============================] - 12s 194us/sample - loss: 0.3810 - acc: 0.9392\n",
      "Epoch 3/5\n",
      "60000/60000 [==============================] - 12s 199us/sample - loss: 0.3511 - acc: 0.9409\n",
      "Epoch 4/5\n",
      "60000/60000 [==============================] - 14s 226us/sample - loss: 0.2941 - acc: 0.9472\n",
      "Epoch 5/5\n",
      "60000/60000 [==============================] - 12s 199us/sample - loss: 0.2770 - acc: 0.9501\n"
     ]
    }
   ],
   "source": [
    "# NOTE: All of the explanations for how I decided the basic parameters for this model are explained in this cell\n",
    "# These explanations will not be repeated in future cells\n",
    "# The purpose of this first cell is to get a general idea of the optimal dimensionality of the hidden relu layer\n",
    "# We will use 5 epochs for speed to get a general idea, until we pare down to a smaller range\n",
    "# We'll evaluate which is the best based on the same test set\n",
    "\n",
    "# dimensions and error for those dimensions\n",
    "dim = range(10,1010,100)\n",
    "err = []\n",
    "\n",
    "for i in dim:\n",
    "    print(i)\n",
    "    # First Layer: relu function- This allows for quick computation as we sort through the dimensionality of the data\n",
    "    # Output Layer: Softmax function in the output layer since we have > 2 output classes\n",
    "    # Softmax allows for a good probabilistic interpretation (between 0 and 1), to compare the output classes with one another.  \n",
    "    # We know there are ten classes, so we'll set dimensionality (units) of output layer to ten\n",
    "    model = tf.keras.models.Sequential([tf.keras.layers.Dense(i,activation='relu'),\n",
    "                                        tf.keras.layers.Dense(10, activation='softmax')])\n",
    "\n",
    "    # We don't want to have problems with outliers,so we won't use mean squared error.  \n",
    "    # Our data is categorical, so categorical cross entrpy makes sense.\n",
    "    # Since we have y_train as ints, and we didn't one-hot encode, we have to use sparse_categorical_crossentropy\n",
    "    # It's faster anyway, see https://stats.stackexchange.com/questions/326065/cross-entropy-vs-sparse-cross-entropy-when-to-use-one-over-the-other\n",
    "    # Use adam optimizer (seems to be standard for stochastic gradient descent from looking online)\n",
    "    # Will change optimizer if problems are found.  Same with default learning rate of .001 that comes with optimizer\n",
    "    # Accuracy defaults to categorical accuracy: see https://www.tensorflow.org/api_docs/python/tf/keras/Model#compile\n",
    "    model.compile(loss='sparse_categorical_crossentropy', optimizer='adam', metrics=['acc'])\n",
    "\n",
    "    model.fit(A_lr, y_train, epochs=5)\n",
    "\n",
    "    pred = np.argmax(model.predict(x_test_vectorized), axis=1)\n",
    "    \n",
    "    err.append(sum(y_test != pred)/len(y_test))"
   ]
  },
  {
   "cell_type": "code",
   "execution_count": 42,
   "metadata": {},
   "outputs": [
    {
     "data": {
      "text/plain": [
       "Text(0.5, 0, 'Dimensionality of Relu layer')"
      ]
     },
     "execution_count": 42,
     "metadata": {},
     "output_type": "execute_result"
    },
    {
     "data": {
      "image/png": "[encoded data removed]",
      "text/plain": [
       "<Figure size 432x288 with 1 Axes>"
      ]
     },
     "metadata": {
      "needs_background": "light"
     },
     "output_type": "display_data"
    }
   ],
   "source": [
    "plt.plot(dim, err)\n",
    "plt.ylabel(\"Error Rate\")\n",
    "plt.xlabel(\"Dimensionality of Relu layer\")"
   ]
  },
  {
   "cell_type": "code",
   "execution_count": 43,
   "metadata": {},
   "outputs": [
    {
     "data": {
      "text/plain": [
       "Text(0.5, 0, 'Dimensionality of Relu layer')"
      ]
     },
     "execution_count": 43,
     "metadata": {},
     "output_type": "execute_result"
    },
    {
     "data": {
      "image/png": "[encoded data removed]",
      "text/plain": [
       "<Figure size 432x288 with 1 Axes>"
      ]
     },
     "metadata": {
      "needs_background": "light"
     },
     "output_type": "display_data"
    }
   ],
   "source": [
    "plt.plot(dim[1:10], err[1:10])\n",
    "plt.ylabel(\"Error Rate\")\n",
    "plt.xlabel(\"Dimensionality of Relu layer\")"
   ]
  },
  {
   "cell_type": "markdown",
   "metadata": {},
   "source": [
    "Clearly, we should look closer in the 600-800 range.  So, I'm gonna lower the jumps to 20 to see if we can find a good dimensionality.  Maybe 712 makes sense since that's how many singular values we had, I'll make sure to pass through that number."
   ]
  },
  {
   "cell_type": "code",
   "execution_count": 38,
   "metadata": {},
   "outputs": [
    {
     "name": "stdout",
     "output_type": "stream",
     "text": [
      "652\n",
      "Train on 60000 samples\n",
      "Epoch 1/5\n",
      "60000/60000 [==============================] - 10s 159us/sample - loss: 2.6222 - acc: 0.9095\n",
      "Epoch 2/5\n",
      "60000/60000 [==============================] - 9s 155us/sample - loss: 0.3571 - acc: 0.9371\n",
      "Epoch 3/5\n",
      "60000/60000 [==============================] - 9s 158us/sample - loss: 0.3198 - acc: 0.9397\n",
      "Epoch 4/5\n",
      "60000/60000 [==============================] - 9s 153us/sample - loss: 0.2890 - acc: 0.9438\n",
      "Epoch 5/5\n",
      "60000/60000 [==============================] - 10s 160us/sample - loss: 0.2686 - acc: 0.9477\n",
      "672\n",
      "Train on 60000 samples\n",
      "Epoch 1/5\n",
      "60000/60000 [==============================] - 10s 169us/sample - loss: 2.7121 - acc: 0.9079\n",
      "Epoch 2/5\n",
      "60000/60000 [==============================] - 10s 160us/sample - loss: 0.3443 - acc: 0.9385\n",
      "Epoch 3/5\n",
      "60000/60000 [==============================] - 10s 167us/sample - loss: 0.3064 - acc: 0.9416\n",
      "Epoch 4/5\n",
      "60000/60000 [==============================] - 9s 155us/sample - loss: 0.2844 - acc: 0.9462\n",
      "Epoch 5/5\n",
      "60000/60000 [==============================] - 10s 163us/sample - loss: 0.2696 - acc: 0.9498\n",
      "692\n",
      "Train on 60000 samples\n",
      "Epoch 1/5\n",
      "60000/60000 [==============================] - 10s 166us/sample - loss: 2.4970 - acc: 0.9120\n",
      "Epoch 2/5\n",
      "60000/60000 [==============================] - 10s 160us/sample - loss: 0.3266 - acc: 0.9421\n",
      "Epoch 3/5\n",
      "60000/60000 [==============================] - 10s 165us/sample - loss: 0.3150 - acc: 0.9434\n",
      "Epoch 4/5\n",
      "60000/60000 [==============================] - 11s 182us/sample - loss: 0.2884 - acc: 0.9460\n",
      "Epoch 5/5\n",
      "60000/60000 [==============================] - 10s 174us/sample - loss: 0.2418 - acc: 0.9520\n",
      "712\n",
      "Train on 60000 samples\n",
      "Epoch 1/5\n",
      "60000/60000 [==============================] - 11s 185us/sample - loss: 2.7685 - acc: 0.9116\n",
      "Epoch 2/5\n",
      "60000/60000 [==============================] - 11s 176us/sample - loss: 0.3636 - acc: 0.9415\n",
      "Epoch 3/5\n",
      "60000/60000 [==============================] - 10s 173us/sample - loss: 0.3340 - acc: 0.9411\n",
      "Epoch 4/5\n",
      "60000/60000 [==============================] - 11s 185us/sample - loss: 0.2917 - acc: 0.9479\n",
      "Epoch 5/5\n",
      "60000/60000 [==============================] - 11s 178us/sample - loss: 0.2648 - acc: 0.9509\n",
      "732\n",
      "Train on 60000 samples\n",
      "Epoch 1/5\n",
      "60000/60000 [==============================] - 12s 199us/sample - loss: 2.7079 - acc: 0.9132\n",
      "Epoch 2/5\n",
      "60000/60000 [==============================] - 10s 160us/sample - loss: 0.3558 - acc: 0.9388\n",
      "Epoch 3/5\n",
      "60000/60000 [==============================] - 10s 172us/sample - loss: 0.3414 - acc: 0.9413\n",
      "Epoch 4/5\n",
      "60000/60000 [==============================] - 11s 176us/sample - loss: 0.2970 - acc: 0.9457\n",
      "Epoch 5/5\n",
      "60000/60000 [==============================] - 11s 176us/sample - loss: 0.2472 - acc: 0.9527\n",
      "752\n",
      "Train on 60000 samples\n",
      "Epoch 1/5\n",
      "60000/60000 [==============================] - 12s 196us/sample - loss: 2.6324 - acc: 0.9106\n",
      "Epoch 2/5\n",
      "60000/60000 [==============================] - 11s 183us/sample - loss: 0.3544 - acc: 0.9391\n",
      "Epoch 3/5\n",
      "60000/60000 [==============================] - 11s 179us/sample - loss: 0.3674 - acc: 0.9411\n",
      "Epoch 4/5\n",
      "60000/60000 [==============================] - 11s 183us/sample - loss: 0.3002 - acc: 0.9453\n",
      "Epoch 5/5\n",
      "60000/60000 [==============================] - 10s 168us/sample - loss: 0.2803 - acc: 0.9503\n"
     ]
    }
   ],
   "source": [
    "dim2 = range(652,753,20)\n",
    "err2 = []\n",
    "\n",
    "for i in dim2:\n",
    "    print(i)\n",
    "    model = tf.keras.models.Sequential([tf.keras.layers.Dense(i,activation='relu'),\n",
    "                                        tf.keras.layers.Dense(10, activation='softmax')])\n",
    "\n",
    "    model.compile(loss='sparse_categorical_crossentropy', optimizer='adam', metrics=['acc'])\n",
    "\n",
    "    model.fit(A_lr, y_train, epochs=5)\n",
    "\n",
    "    pred2 = np.argmax(model.predict(x_test_vectorized), axis=1)\n",
    "    \n",
    "    err2.append(sum(y_test != pred2)/len(y_test))"
   ]
  },
  {
   "cell_type": "code",
   "execution_count": 39,
   "metadata": {},
   "outputs": [
    {
     "data": {
      "text/plain": [
       "[<matplotlib.lines.Line2D at 0x1dff8010d88>]"
      ]
     },
     "execution_count": 39,
     "metadata": {},
     "output_type": "execute_result"
    },
    {
     "data": {
      "image/png": "[encoded data removed]",
      "text/plain": [
       "<Figure size 432x288 with 1 Axes>"
      ]
     },
     "metadata": {
      "needs_background": "light"
     },
     "output_type": "display_data"
    }
   ],
   "source": [
    "plt.plot(dim2, err2)\n",
    "plt.ylabel(\"Error Rate\")\n",
    "plt.xlabel(\"Dimensionality of Relu layer\")"
   ]
  },
  {
   "cell_type": "code",
   "execution_count": 40,
   "metadata": {},
   "outputs": [
    {
     "name": "stdout",
     "output_type": "stream",
     "text": [
      "range(652, 753, 20)\n",
      "[0.0583, 0.0572, 0.0587, 0.0529, 0.0466, 0.0472]\n"
     ]
    }
   ],
   "source": [
    "print(dim2)\n",
    "print(err2)"
   ]
  },
  {
   "cell_type": "markdown",
   "metadata": {},
   "source": [
    "Looks like 732 is the best so let's try that with more epochs."
   ]
  },
  {
   "cell_type": "code",
   "execution_count": 41,
   "metadata": {},
   "outputs": [
    {
     "name": "stdout",
     "output_type": "stream",
     "text": [
      "Train on 60000 samples\n",
      "Epoch 1/20\n",
      "60000/60000 [==============================] - 10s 163us/sample - loss: 2.6017 - acc: 0.9096\n",
      "Epoch 2/20\n",
      "60000/60000 [==============================] - 10s 169us/sample - loss: 0.3598 - acc: 0.9377\n",
      "Epoch 3/20\n",
      "60000/60000 [==============================] - 10s 162us/sample - loss: 0.3262 - acc: 0.9410\n",
      "Epoch 4/20\n",
      "60000/60000 [==============================] - 10s 168us/sample - loss: 0.2744 - acc: 0.9466\n",
      "Epoch 5/20\n",
      "60000/60000 [==============================] - 11s 177us/sample - loss: 0.2856 - acc: 0.9486\n",
      "Epoch 6/20\n",
      "60000/60000 [==============================] - 11s 178us/sample - loss: 0.2328 - acc: 0.9552\n",
      "Epoch 7/20\n",
      "60000/60000 [==============================] - 10s 169us/sample - loss: 0.2374 - acc: 0.9567\n",
      "Epoch 8/20\n",
      "60000/60000 [==============================] - 10s 164us/sample - loss: 0.2093 - acc: 0.9591\n",
      "Epoch 9/20\n",
      "60000/60000 [==============================] - 12s 194us/sample - loss: 0.2023 - acc: 0.9616\n",
      "Epoch 10/20\n",
      "60000/60000 [==============================] - 11s 184us/sample - loss: 0.2050 - acc: 0.9625\n",
      "Epoch 11/20\n",
      "60000/60000 [==============================] - 10s 162us/sample - loss: 0.1914 - acc: 0.9632\n",
      "Epoch 12/20\n",
      "60000/60000 [==============================] - 10s 169us/sample - loss: 0.1806 - acc: 0.9651\n",
      "Epoch 13/20\n",
      "60000/60000 [==============================] - 10s 174us/sample - loss: 0.1946 - acc: 0.9659\n",
      "Epoch 14/20\n",
      "60000/60000 [==============================] - 10s 162us/sample - loss: 0.1698 - acc: 0.9677\n",
      "Epoch 15/20\n",
      "60000/60000 [==============================] - 10s 168us/sample - loss: 0.1900 - acc: 0.9671\n",
      "Epoch 16/20\n",
      "60000/60000 [==============================] - 10s 173us/sample - loss: 0.1672 - acc: 0.9696\n",
      "Epoch 17/20\n",
      "60000/60000 [==============================] - 10s 169us/sample - loss: 0.1592 - acc: 0.9701\n",
      "Epoch 18/20\n",
      "60000/60000 [==============================] - 10s 167us/sample - loss: 0.1662 - acc: 0.9707\n",
      "Epoch 19/20\n",
      "60000/60000 [==============================] - 10s 163us/sample - loss: 0.1661 - acc: 0.9711\n",
      "Epoch 20/20\n",
      "60000/60000 [==============================] - 10s 168us/sample - loss: 0.1624 - acc: 0.9724\n"
     ]
    },
    {
     "data": {
      "text/plain": [
       "0.0497"
      ]
     },
     "execution_count": 41,
     "metadata": {},
     "output_type": "execute_result"
    }
   ],
   "source": [
    "model = tf.keras.models.Sequential([tf.keras.layers.Dense(732,activation='relu'),\n",
    "                                    tf.keras.layers.Dense(10, activation='softmax')])\n",
    "\n",
    "model.compile(loss='sparse_categorical_crossentropy', optimizer='adam', metrics=['acc'])\n",
    "\n",
    "model.fit(A_lr, y_train, epochs=20)\n",
    "\n",
    "pred3 = np.argmax(model.predict(x_test_vectorized), axis=1)\n",
    "\n",
    "sum(y_test != pred3)/len(y_test)"
   ]
  },
  {
   "cell_type": "markdown",
   "metadata": {},
   "source": [
    "I wonder if 712 is the best actually, since the test error went up after more epochs for 732, let's try that."
   ]
  },
  {
   "cell_type": "code",
   "execution_count": 44,
   "metadata": {},
   "outputs": [
    {
     "name": "stdout",
     "output_type": "stream",
     "text": [
      "Train on 60000 samples\n",
      "Epoch 1/20\n",
      "60000/60000 [==============================] - 10s 173us/sample - loss: 2.8095 - acc: 0.9107\n",
      "Epoch 2/20\n",
      "60000/60000 [==============================] - 10s 167us/sample - loss: 0.3735 - acc: 0.9381\n",
      "Epoch 3/20\n",
      "60000/60000 [==============================] - 10s 160us/sample - loss: 0.3193 - acc: 0.9438\n",
      "Epoch 4/20\n",
      "60000/60000 [==============================] - 10s 162us/sample - loss: 0.2983 - acc: 0.9461\n",
      "Epoch 5/20\n",
      "60000/60000 [==============================] - 10s 162us/sample - loss: 0.2641 - acc: 0.9529\n",
      "Epoch 6/20\n",
      "60000/60000 [==============================] - 9s 157us/sample - loss: 0.2363 - acc: 0.9543\n",
      "Epoch 7/20\n",
      "60000/60000 [==============================] - 10s 163us/sample - loss: 0.2357 - acc: 0.9563\n",
      "Epoch 8/20\n",
      "60000/60000 [==============================] - 9s 157us/sample - loss: 0.2140 - acc: 0.9593\n",
      "Epoch 9/20\n",
      "60000/60000 [==============================] - 9s 152us/sample - loss: 0.2135 - acc: 0.9597\n",
      "Epoch 10/20\n",
      "60000/60000 [==============================] - 9s 146us/sample - loss: 0.2071 - acc: 0.9617\n",
      "Epoch 11/20\n",
      "60000/60000 [==============================] - 9s 151us/sample - loss: 0.2066 - acc: 0.9641\n",
      "Epoch 12/20\n",
      "60000/60000 [==============================] - 9s 150us/sample - loss: 0.1913 - acc: 0.9648\n",
      "Epoch 13/20\n",
      "60000/60000 [==============================] - 10s 164us/sample - loss: 0.1844 - acc: 0.9667\n",
      "Epoch 14/20\n",
      "60000/60000 [==============================] - 12s 196us/sample - loss: 0.1814 - acc: 0.9667\n",
      "Epoch 15/20\n",
      "60000/60000 [==============================] - 10s 166us/sample - loss: 0.1730 - acc: 0.9690\n",
      "Epoch 16/20\n",
      "60000/60000 [==============================] - 10s 169us/sample - loss: 0.1698 - acc: 0.9682\n",
      "Epoch 17/20\n",
      "60000/60000 [==============================] - 11s 178us/sample - loss: 0.1735 - acc: 0.9693\n",
      "Epoch 18/20\n",
      "60000/60000 [==============================] - 10s 164us/sample - loss: 0.1657 - acc: 0.9717\n",
      "Epoch 19/20\n",
      "60000/60000 [==============================] - 10s 164us/sample - loss: 0.1619 - acc: 0.9707\n",
      "Epoch 20/20\n",
      "60000/60000 [==============================] - 10s 171us/sample - loss: 0.1627 - acc: 0.9720\n"
     ]
    },
    {
     "data": {
      "text/plain": [
       "0.0416"
      ]
     },
     "execution_count": 44,
     "metadata": {},
     "output_type": "execute_result"
    }
   ],
   "source": [
    "model = tf.keras.models.Sequential([tf.keras.layers.Dense(712,activation='relu'),\n",
    "                                    tf.keras.layers.Dense(10, activation='softmax')])\n",
    "\n",
    "model.compile(loss='sparse_categorical_crossentropy', optimizer='adam', metrics=['acc'])\n",
    "\n",
    "model.fit(A_lr, y_train, epochs=20)\n",
    "\n",
    "pred4 = np.argmax(model.predict(x_test_vectorized), axis=1)\n",
    "\n",
    "sum(y_test != pred4)/len(y_test)"
   ]
  },
  {
   "cell_type": "code",
   "execution_count": null,
   "metadata": {},
   "outputs": [],
   "source": []
  }
 ],
 "metadata": {
  "kernelspec": {
   "display_name": "Python 3",
   "language": "python",
   "name": "python3"
  },
  "language_info": {
   "codemirror_mode": {
    "name": "ipython",
    "version": 3
   },
   "file_extension": ".py",
   "mimetype": "text/x-python",
   "name": "python",
   "nbconvert_exporter": "python",
   "pygments_lexer": "ipython3",
   "version": "3.7.6"
  }
 },
 "nbformat": 4,
 "nbformat_minor": 4
}

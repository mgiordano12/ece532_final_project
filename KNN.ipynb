{
 "cells": [
  {
   "cell_type": "code",
   "execution_count": 3,
   "metadata": {},
   "outputs": [],
   "source": [
    "import numpy as np\n",
    "import tensorflow as tf\n",
    "import matplotlib.pyplot as plt \n",
    "from matplotlib import pyplot as plt\n",
    "\n",
    "(x_train, y_train), (x_test, y_test) = tf.keras.datasets.mnist.load_data()"
   ]
  },
  {
   "cell_type": "code",
   "execution_count": null,
   "metadata": {},
   "outputs": [],
   "source": []
  },
  {
   "cell_type": "code",
   "execution_count": 4,
   "metadata": {},
   "outputs": [],
   "source": [
    "## function to plot images in grid\n",
    "#  Used in ECE: 601 HW as well \n",
    "def show_images(images, rows, cols):\n",
    "    for i in range(rows * cols):\n",
    "        plt.subplot(rows, cols, i + 1)\n",
    "        plt.imshow(images[i], cmap=plt.cm.gray_r)\n",
    "        plt.xticks(())\n",
    "        plt.yticks(())\n",
    "    plt.show()"
   ]
  },
  {
   "cell_type": "code",
   "execution_count": 24,
   "metadata": {},
   "outputs": [
    {
     "name": "stdout",
     "output_type": "stream",
     "text": [
      "0\n",
      "100\n",
      "200\n",
      "300\n",
      "400\n",
      "500\n",
      "600\n"
     ]
    },
    {
     "ename": "KeyboardInterrupt",
     "evalue": "",
     "output_type": "error",
     "traceback": [
      "\u001b[1;31m---------------------------------------------------------------------------\u001b[0m",
      "\u001b[1;31mKeyboardInterrupt\u001b[0m                         Traceback (most recent call last)",
      "\u001b[1;32m<ipython-input-24-94a52e05315f>\u001b[0m in \u001b[0;36m<module>\u001b[1;34m\u001b[0m\n\u001b[0;32m      6\u001b[0m     \u001b[1;32mfor\u001b[0m \u001b[0mj_train\u001b[0m \u001b[1;32min\u001b[0m \u001b[0mrange\u001b[0m\u001b[1;33m(\u001b[0m\u001b[0mx_train\u001b[0m\u001b[1;33m.\u001b[0m\u001b[0mshape\u001b[0m\u001b[1;33m[\u001b[0m\u001b[1;36m0\u001b[0m\u001b[1;33m]\u001b[0m\u001b[1;33m)\u001b[0m\u001b[1;33m:\u001b[0m\u001b[1;33m\u001b[0m\u001b[1;33m\u001b[0m\u001b[0m\n\u001b[0;32m      7\u001b[0m \u001b[1;33m\u001b[0m\u001b[0m\n\u001b[1;32m----> 8\u001b[1;33m         \u001b[1;32mif\u001b[0m \u001b[0mnp\u001b[0m\u001b[1;33m.\u001b[0m\u001b[0msum\u001b[0m\u001b[1;33m(\u001b[0m\u001b[0mnp\u001b[0m\u001b[1;33m.\u001b[0m\u001b[0msquare\u001b[0m\u001b[1;33m(\u001b[0m\u001b[0mx_test\u001b[0m\u001b[1;33m[\u001b[0m\u001b[0mi_test\u001b[0m\u001b[1;33m]\u001b[0m \u001b[1;33m-\u001b[0m \u001b[0mx_train\u001b[0m\u001b[1;33m[\u001b[0m\u001b[0mj_train\u001b[0m\u001b[1;33m]\u001b[0m\u001b[1;33m)\u001b[0m\u001b[1;33m)\u001b[0m \u001b[1;33m<\u001b[0m \u001b[0mneighbor_val\u001b[0m\u001b[1;33m:\u001b[0m\u001b[1;33m\u001b[0m\u001b[1;33m\u001b[0m\u001b[0m\n\u001b[0m\u001b[0;32m      9\u001b[0m \u001b[1;33m\u001b[0m\u001b[0m\n\u001b[0;32m     10\u001b[0m             \u001b[0mneighbor_val\u001b[0m \u001b[1;33m=\u001b[0m \u001b[0mnp\u001b[0m\u001b[1;33m.\u001b[0m\u001b[0msum\u001b[0m\u001b[1;33m(\u001b[0m\u001b[0mnp\u001b[0m\u001b[1;33m.\u001b[0m\u001b[0msquare\u001b[0m\u001b[1;33m(\u001b[0m\u001b[0mx_test\u001b[0m\u001b[1;33m[\u001b[0m\u001b[0mi_test\u001b[0m\u001b[1;33m]\u001b[0m \u001b[1;33m-\u001b[0m \u001b[0mx_train\u001b[0m\u001b[1;33m[\u001b[0m\u001b[0mj_train\u001b[0m\u001b[1;33m]\u001b[0m\u001b[1;33m)\u001b[0m\u001b[1;33m)\u001b[0m\u001b[1;33m\u001b[0m\u001b[1;33m\u001b[0m\u001b[0m\n",
      "\u001b[1;31mKeyboardInterrupt\u001b[0m: "
     ]
    }
   ],
   "source": [
    "neighbors = []\n",
    "\n",
    "for i_test in range(x_test.shape[0]):\n",
    "    neighbor_index = -1\n",
    "    neighbor_val = 1000000000000000000\n",
    "    for j_train in range(x_train.shape[0]):\n",
    "        \n",
    "        if np.sum(np.square(x_test[i_test] - x_train[j_train])) < neighbor_val:\n",
    "            \n",
    "            neighbor_val = np.sum(np.square(x_test[i_test] - x_train[j_train]))\n",
    "            neighbor_index = j_train\n",
    "    \n",
    "    neighbors.extend((neighbor_index, neighbor_val))\n",
    "    if i_test % 100 == 0:\n",
    "        print(i_test)\n",
    "    "
   ]
  },
  {
   "cell_type": "code",
   "execution_count": 45,
   "metadata": {},
   "outputs": [
    {
     "name": "stdout",
     "output_type": "stream",
     "text": [
      "0.6093697547912598\n"
     ]
    }
   ],
   "source": [
    "import time\n",
    "neighbors = []\n",
    "\n",
    "start_time = time.time()\n",
    "for i_test in range(1000):#x_test.shape[0]):\n",
    "    neighbor_index = -1\n",
    "    neighbor_val = 1000000000000000000\n",
    "    for j_train in range(x_train.shape[0]):\n",
    "        \n",
    "        if np.sum(np.square(x_test[i_test] - x_train[j_train])) < neighbor_val:\n",
    "            \n",
    "            neighbor_val = np.sum(np.square(x_test[i_test] - x_train[j_train]))\n",
    "            neighbor_index = j_train\n",
    "    \n",
    "    neighbors.append((neighbor_index, neighbor_val))\n",
    "    if i_test % 1000 == 0:\n",
    "        print(time.time()-start_time)\n",
    "        start_time = time.time()\n",
    "    "
   ]
  },
  {
   "cell_type": "code",
   "execution_count": 47,
   "metadata": {},
   "outputs": [
    {
     "name": "stdout",
     "output_type": "stream",
     "text": [
      "0.74\n"
     ]
    }
   ],
   "source": [
    "#print(neighbors)\n",
    "errors = 0\n",
    "for i in range(1000):\n",
    "    if y_test[i] != y_train[neighbors[i][0]]:\n",
    "        errors += 1\n",
    "\n",
    "print(errors/1000)"
   ]
  },
  {
   "cell_type": "code",
   "execution_count": 95,
   "metadata": {},
   "outputs": [],
   "source": [
    "import time\n",
    "from collections import Counter\n",
    "\n",
    "def classifyKNN(x_train, x_test, k=1):\n",
    "    neighbors = []\n",
    "\n",
    "    start_time = time.time()\n",
    "    for i_test in range(100):\n",
    "        min_vals = [10000000000000000]\n",
    "        min_indexes = {10000000000000000 : -1}\n",
    "        \n",
    "        for j_train in range(x_train.shape[0]):\n",
    "\n",
    "            \n",
    "            if np.sum(np.square(x_test[i_test] - x_train[j_train])) < min_vals[-1]:\n",
    "                \n",
    "                val = np.sum(np.square(x_test[i_test] - x_train[j_train]))\n",
    "                \n",
    "                if val in min_indexes.keys():\n",
    "                    continue\n",
    "                \n",
    "                if len(min_vals) < k:\n",
    "                    min_vals.append(val)\n",
    "                    min_indexes[val] = j_train\n",
    "                else:\n",
    "                    min_indexes.pop(min_vals[-1])\n",
    "                    min_vals[-1] = val\n",
    "                    min_indexes[val] = j_train\n",
    "\n",
    "                min_vals = sorted(min_vals)\n",
    "\n",
    "        classes = [y_train[i] for i in min_indexes.values()]\n",
    "        # https://stackoverflow.com/questions/10797819/finding-the-mode-of-a-list\n",
    "        # Break ties more intelligently?\n",
    "        neighbors.append(Counter(classes).most_common(1)[0][0])\n",
    "        if i_test % 100 == 0:\n",
    "            print(time.time()-start_time)\n",
    "            start_time = time.time()\n",
    "            \n",
    "    return neighbors"
   ]
  },
  {
   "cell_type": "code",
   "execution_count": 96,
   "metadata": {},
   "outputs": [
    {
     "name": "stdout",
     "output_type": "stream",
     "text": [
      "0.587425708770752\n"
     ]
    }
   ],
   "source": [
    "test = classifyKNN(x_train, x_test, 21)"
   ]
  },
  {
   "cell_type": "code",
   "execution_count": 97,
   "metadata": {},
   "outputs": [
    {
     "name": "stdout",
     "output_type": "stream",
     "text": [
      "0.69\n"
     ]
    }
   ],
   "source": [
    "errors = 0\n",
    "for i in range(100):\n",
    "    if y_test[i] != test[i]:\n",
    "        errors += 1\n",
    "\n",
    "print(errors/100)"
   ]
  },
  {
   "cell_type": "code",
   "execution_count": 93,
   "metadata": {},
   "outputs": [
    {
     "name": "stdout",
     "output_type": "stream",
     "text": [
      "[[(1, 10)], 13650, [(1, 15)], 2738, [(1, 16)], 3966, [(0, 9)], 14866, [(7, 6)], 4725, [(1, 21)], 2202, [(4, 9)], 4641, [(7, 12)], 2202, [(1, 5)], 8553, [(1, 11)], 1529, [(4, 7)], 4725, [(4, 7)], 1253, [(1, 7)], 3412, [(1, 13)], 2737, [(1, 19)], 2202, [(1, 11)], 572, [(7, 8)], 1328, [(1, 10)], 3018, [(1, 6)], 2202, [(4, 9)], 8553, [(1, 9)], 2202, [(4, 5)], 5678, [(7, 6)], 7113, [(1, 20)], 3996, [(1, 12)], 3606, [(0, 9)], 7113, [(4, 8)], 7804, [(4, 7)], 10205, [(1, 14)], 4944, [(1, 20)], 4639, [(1, 14)], 1450, [(1, 19)], 382, [(1, 12)], 2747, [(2, 5)], 10785, [(7, 19)], 3209, [(3, 5)], 1755, [(1, 15)], 6640, [(1, 21)], 2731, [(1, 16)], 8072, [(1, 18)], 1910, [(1, 20)], 6640, [(1, 9)], 2202, [(1, 21)], 3996, [(1, 19)], 137, [(1, 14)], 5051, [(3, 7)], 245, [(1, 15)], 3412, [(1, 7)], 1357, [(1, 17)], 3996, [(4, 10)], 2737, [(6, 9)], 66, [(5, 9)], 1420, [(1, 11)], 393, [(1, 12)], 137, [(7, 15)], 3209, [(7, 13)], 2650, [(4, 11)], 2608, [(1, 18)], 8806, [(7, 10)], 3751, [(1, 17)], 6640, [(1, 14)], 572, [(1, 13)], 1104, [(1, 4)], 2202, [(3, 7)], 1972, [(6, 4)], 13650, [(1, 17)], 3412, [(6, 8)], 323, [(1, 7)], 2202, [(1, 13)], 2202, [(1, 13)], 3996, [(7, 12)], 3368, [(7, 7)], 12398, [(1, 11)], 2202, [(1, 9)], 5590, [(1, 21)], 1450, [(7, 14)], 7470, [(1, 16)], 9251, [(1, 17)], 3412, [(1, 21)], 6570, [(7, 6)], 2202, [(1, 11)], 2202, [(4, 7)], 1808, [(1, 8)], 2202, [(7, 7)], 8238, [(1, 6)], 376, [(1, 18)], 572, [(7, 11)], 1353, [(1, 20)], 382, [(1, 18)], 2737, [(1, 21)], 6640, [(3, 7)], 1755, [(1, 14)], 3412, [(1, 18)], 3996, [(1, 16)], 2202, [(1, 21)], 2747, [(1, 6)], 245, [(1, 17)], 1450, [(1, 19)], 2015, [(1, 15)], 4944, [(4, 6)], 8641]\n"
     ]
    }
   ],
   "source": [
    "print(test)"
   ]
  },
  {
   "cell_type": "code",
   "execution_count": null,
   "metadata": {},
   "outputs": [],
   "source": []
  }
 ],
 "metadata": {
  "kernelspec": {
   "display_name": "Python 3",
   "language": "python",
   "name": "python3"
  },
  "language_info": {
   "codemirror_mode": {
    "name": "ipython",
    "version": 3
   },
   "file_extension": ".py",
   "mimetype": "text/x-python",
   "name": "python",
   "nbconvert_exporter": "python",
   "pygments_lexer": "ipython3",
   "version": "3.7.6"
  }
 },
 "nbformat": 4,
 "nbformat_minor": 4
}

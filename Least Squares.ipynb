{
 "cells": [
  {
   "cell_type": "code",
   "execution_count": 2,
   "metadata": {},
   "outputs": [],
   "source": [
    "import numpy as np\n",
    "import tensorflow as tf\n",
    "import matplotlib.pyplot as plt \n",
    "from matplotlib import pyplot as plt\n",
    "\n",
    "(x_train, y_train), (x_test, y_test) = tf.keras.datasets.mnist.load_data()"
   ]
  },
  {
   "cell_type": "code",
   "execution_count": 3,
   "metadata": {},
   "outputs": [],
   "source": [
    "# Vectorize and put data columnwise\n",
    "x_train_vectorized = x_train.reshape(60000,784).T\n",
    "\n",
    "# Remove means\n",
    "means = np.mean(x_train_vectorized, 1).reshape(784,1)\n",
    "x_train_mr = x_train_vectorized - means"
   ]
  },
  {
   "cell_type": "code",
   "execution_count": 4,
   "metadata": {},
   "outputs": [],
   "source": [
    "U,s,VT = np.linalg.svd(x_train_mr,full_matrices=False)"
   ]
  },
  {
   "cell_type": "code",
   "execution_count": 79,
   "metadata": {},
   "outputs": [
    {
     "data": {
      "text/plain": [
       "Text(0, 0.5, 'Log(Singular Value)')"
      ]
     },
     "execution_count": 79,
     "metadata": {},
     "output_type": "execute_result"
    },
    {
     "data": {
      "image/png": "[encoded data removed]",
      "text/plain": [
       "<Figure size 432x288 with 1 Axes>"
      ]
     },
     "metadata": {
      "needs_background": "light"
     },
     "output_type": "display_data"
    }
   ],
   "source": [
    "# If we take a quick look at s, there's a clear cut off where the singular values drop under 1\n",
    "plt.plot(range(784), np.log(s))\n",
    "plt.xlabel(\"Singular Value Index\")\n",
    "plt.ylabel(\"Log(Singular Value)\")"
   ]
  },
  {
   "cell_type": "code",
   "execution_count": 6,
   "metadata": {},
   "outputs": [],
   "source": [
    "# Let's grab those first ones\n",
    "s_red = [ i for i in s if i > 1]\n",
    "\n",
    "# And get our new matrix\n",
    "A  = U[:,:len(s_red)]@np.diag(s_red)@VT[:len(s_red),:]\n",
    "\n",
    "# Add back means and make data rowwise again\n",
    "A_lr = (A+means).T"
   ]
  },
  {
   "cell_type": "code",
   "execution_count": 7,
   "metadata": {},
   "outputs": [],
   "source": [
    "## function to plot images in grid\n",
    "#  Used in ECE: 601 HW as well \n",
    "def show_images(images, rows, cols):\n",
    "    for i in range(rows * cols):\n",
    "        plt.subplot(rows, cols, i + 1)\n",
    "        plt.imshow(images[i], cmap=plt.cm.gray_r)\n",
    "        plt.xticks(())\n",
    "        plt.yticks(())\n",
    "    plt.show()"
   ]
  },
  {
   "cell_type": "code",
   "execution_count": 30,
   "metadata": {},
   "outputs": [
    {
     "name": "stdout",
     "output_type": "stream",
     "text": [
      "(784, 712)\n",
      "712\n",
      "(712, 60000)\n"
     ]
    }
   ],
   "source": [
    "print(U[:,:len(s_red)].shape)\n",
    "print(len(s_red))\n",
    "print(VT[:len(s_red),:].shape)"
   ]
  },
  {
   "cell_type": "code",
   "execution_count": 56,
   "metadata": {},
   "outputs": [],
   "source": [
    "y_truths = [[1 if i == j else -1 for i in y_train] for j in range(10)]\n",
    "\n",
    "# This is the fast way to do this compared to above, tested by using time module\n",
    "# Vals for whether something is a 0, 1, 2, ...\n",
    "# y_truths = [(y_train[:] == i).astype(\"int\") for i in range(10)]"
   ]
  },
  {
   "cell_type": "code",
   "execution_count": 57,
   "metadata": {},
   "outputs": [],
   "source": [
    "# can play around with lambda later, should be really small since we already controlled for a lot of noise\n",
    "lam = .00001\n",
    "\n",
    "# gets w's for numbers 0-9\n",
    "dubs = [np.linalg.inv(A_lr.T@A_lr + lam*np.identity(784))@A_lr.T@y_truths[i] for i in range(10)]"
   ]
  },
  {
   "cell_type": "code",
   "execution_count": 58,
   "metadata": {},
   "outputs": [],
   "source": [
    "y_test_truths = [[1 if i == j else -1 for i in y_test] for j in range(10)]\n",
    "\n",
    "# y_test_truths = [(y_test[:] == i).astype(\"int\") for i in range(10)]"
   ]
  },
  {
   "cell_type": "code",
   "execution_count": 59,
   "metadata": {},
   "outputs": [],
   "source": [
    "# Get y_hats of individual error rates for each classification #\n",
    "y_hats = [x_test_rs@dubs[i] for i in range(10)]"
   ]
  },
  {
   "cell_type": "code",
   "execution_count": 60,
   "metadata": {},
   "outputs": [],
   "source": [
    "# Get error_rates of individual error rates for each classification #\n",
    "error_rates = [np.sum(np.sign(y_hats[i][:]) != y_test_truths[i][:])/10000 for i in range(10)]"
   ]
  },
  {
   "cell_type": "code",
   "execution_count": 61,
   "metadata": {},
   "outputs": [
    {
     "name": "stdout",
     "output_type": "stream",
     "text": [
      "[0.0124, 0.0156, 0.0386, 0.0424, 0.0301, 0.0515, 0.0259, 0.0306, 0.0679, 0.0553]\n"
     ]
    }
   ],
   "source": [
    "print(error_rates)"
   ]
  },
  {
   "cell_type": "code",
   "execution_count": 62,
   "metadata": {},
   "outputs": [
    {
     "name": "stdout",
     "output_type": "stream",
     "text": [
      "(10, 10000)\n"
     ]
    }
   ],
   "source": [
    "y_hats_arr = np.array(y_hats)\n",
    "print(y_hats_arr.shape)"
   ]
  },
  {
   "cell_type": "code",
   "execution_count": 64,
   "metadata": {},
   "outputs": [
    {
     "name": "stdout",
     "output_type": "stream",
     "text": [
      "[-0.80789342 -0.46940549 -0.74660848  0.67252654 -0.7521428  -0.93828725\n",
      " -1.02002434 -1.13302366 -1.04877783 -1.20620412  0.43321551 -0.32422957\n",
      " -0.88355699  0.70700694 -1.02438336 -0.75280094 -0.76579832 -0.47172397\n",
      " -1.11669703 -0.67964717 -1.01541562 -0.81407695 -0.77717916 -0.76527088\n",
      " -0.60312995  0.72726873 -0.85156288 -0.79696497  0.58112653 -0.99810462]\n",
      "[-1. -1. -1.  1. -1. -1. -1. -1. -1. -1.  1. -1. -1.  1. -1. -1. -1. -1.\n",
      " -1. -1. -1. -1. -1. -1. -1.  1. -1. -1.  1. -1.]\n",
      "[-1, -1, -1, 1, -1, -1, -1, -1, -1, -1, 1, -1, -1, 1, -1, -1, -1, -1, -1, -1, -1, -1, -1, -1, -1, 1, -1, -1, 1, -1]\n"
     ]
    }
   ],
   "source": [
    "print(y_hats_arr[0, 0:30])\n",
    "print(np.sign(y_hats_arr[0, 0:30]))\n",
    "print(y_test_truths[0][0:30])"
   ]
  },
  {
   "cell_type": "code",
   "execution_count": 67,
   "metadata": {},
   "outputs": [],
   "source": [
    "# Max value of each test instance\n",
    "maxes = np.argmax(y_hats_arr, axis=0)"
   ]
  },
  {
   "cell_type": "code",
   "execution_count": 70,
   "metadata": {},
   "outputs": [],
   "source": [
    "error_rate = np.sum(maxes[:] != y_test[:])/10000"
   ]
  },
  {
   "cell_type": "code",
   "execution_count": 71,
   "metadata": {},
   "outputs": [
    {
     "name": "stdout",
     "output_type": "stream",
     "text": [
      "0.1466\n"
     ]
    }
   ],
   "source": [
    "print(error_rate)"
   ]
  },
  {
   "cell_type": "code",
   "execution_count": 74,
   "metadata": {},
   "outputs": [],
   "source": [
    "# can play around with lambda later, should be really small since we already controlled for a lot of noise\n",
    "lams = [.0000001, .000001, .00001, .0001, .001, .01, .1, 1, 10, 100, 1000, 10000, 100000, 1000000]\n",
    "\n",
    "err_rates = []\n",
    "\n",
    "# Get error_rates for various values of lambda\n",
    "for lam in lams:\n",
    "    print(lam)\n",
    "    # gets w's for numbers 0-9\n",
    "    dubs = [np.linalg.inv(A_lr.T@A_lr + lam*np.identity(784))@A_lr.T@y_truths[i] for i in range(10)]\n",
    "    \n",
    "    # Get y_hats of individual error rates for each classification #\n",
    "    y_hats = [x_test_rs@dubs[i] for i in range(10)]\n",
    "    \n",
    "    y_hats_arr = np.array(y_hats)\n",
    "\n",
    "    # Max value of each test instance\n",
    "    maxes = np.argmax(y_hats_arr, axis=0)\n",
    "    \n",
    "    err_rates.append(np.sum(maxes[:] != y_test[:])/10000)"
   ]
  },
  {
   "cell_type": "code",
   "execution_count": 75,
   "metadata": {},
   "outputs": [
    {
     "name": "stdout",
     "output_type": "stream",
     "text": [
      "[0.1466, 0.1466, 0.1466, 0.1466, 0.1466, 0.1466, 0.1466, 0.1466, 0.1466, 0.1467, 0.1467, 0.1466, 0.1466, 0.1452]\n"
     ]
    }
   ],
   "source": [
    "print(err_rates)"
   ]
  },
  {
   "cell_type": "code",
   "execution_count": 76,
   "metadata": {},
   "outputs": [
    {
     "name": "stdout",
     "output_type": "stream",
     "text": [
      "1000000.0\n",
      "10000000.0\n",
      "100000000.0\n",
      "1000000000.0\n",
      "10000000000.0\n"
     ]
    }
   ],
   "source": [
    "# can play around with lambda later, should be really small since we already controlled for a lot of noise\n",
    "lams = [10e5, 10e6, 10e7, 10e8, 10e9]\n",
    "\n",
    "err_rates_2 = []\n",
    "\n",
    "# Get error_rates for various values of lambda\n",
    "for lam in lams:\n",
    "    print(lam)\n",
    "    # gets w's for numbers 0-9\n",
    "    dubs = [np.linalg.inv(A_lr.T@A_lr + lam*np.identity(784))@A_lr.T@y_truths[i] for i in range(10)]\n",
    "    \n",
    "    # Get y_hats of individual error rates for each classification #\n",
    "    y_hats = [x_test_rs@dubs[i] for i in range(10)]\n",
    "    \n",
    "    y_hats_arr = np.array(y_hats)\n",
    "\n",
    "    # Max value of each test instance\n",
    "    maxes = np.argmax(y_hats_arr, axis=0)\n",
    "    \n",
    "    err_rates_2.append(np.sum(maxes[:] != y_test[:])/10000)"
   ]
  },
  {
   "cell_type": "code",
   "execution_count": 77,
   "metadata": {},
   "outputs": [
    {
     "name": "stdout",
     "output_type": "stream",
     "text": [
      "[0.1452, 0.1435, 0.1424, 0.1547, 0.1959]\n"
     ]
    }
   ],
   "source": [
    "print(err_rates_2)"
   ]
  },
  {
   "cell_type": "code",
   "execution_count": null,
   "metadata": {},
   "outputs": [],
   "source": []
  }
 ],
 "metadata": {
  "kernelspec": {
   "display_name": "Python 3",
   "language": "python",
   "name": "python3"
  },
  "language_info": {
   "codemirror_mode": {
    "name": "ipython",
    "version": 3
   },
   "file_extension": ".py",
   "mimetype": "text/x-python",
   "name": "python",
   "nbconvert_exporter": "python",
   "pygments_lexer": "ipython3",
   "version": "3.7.6"
  }
 },
 "nbformat": 4,
 "nbformat_minor": 4
}
